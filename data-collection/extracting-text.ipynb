{
 "cells": [
  {
   "cell_type": "markdown",
   "id": "e4eb5b1f",
   "metadata": {},
   "source": [
    "## Turning scraped text on New York pharmacies into structured data\n",
    "\n",
    "This notebook uses data scraped from the Department of Education’s Office of the Professions [online verification search engine](http://www.op.nysed.gov/opsearches.htm#rx) currently saved as text files into structured data. It uses regular expressions to parse the text, turns the data into pandas dataframes and saves it as a CSV."
   ]
  },
  {
   "cell_type": "code",
   "execution_count": 1,
   "id": "4a4c87ae",
   "metadata": {},
   "outputs": [],
   "source": [
    "import pandas as pd\n",
    "import re\n",
    "import numpy as np\n",
    "from os import listdir\n",
    "from tqdm import tqdm"
   ]
  },
  {
   "cell_type": "code",
   "execution_count": 2,
   "id": "2b827d09",
   "metadata": {},
   "outputs": [
    {
     "data": {
      "application/javascript": [
       "if (!(\"Notification\" in window)) {\n",
       "    alert(\"This browser does not support desktop notifications, so the %%notify magic will not work.\");\n",
       "} else if (Notification.permission !== 'granted' && Notification.permission !== 'denied') {\n",
       "    Notification.requestPermission(function (permission) {\n",
       "        if(!('permission' in Notification)) {\n",
       "            Notification.permission = permission;\n",
       "        }\n",
       "    })\n",
       "}\n"
      ],
      "text/plain": [
       "<IPython.core.display.Javascript object>"
      ]
     },
     "metadata": {},
     "output_type": "display_data"
    }
   ],
   "source": [
    "%load_ext jupyternotify"
   ]
  },
  {
   "cell_type": "code",
   "execution_count": 3,
   "id": "e66c8f23",
   "metadata": {},
   "outputs": [],
   "source": [
    "def extract_data(text):\n",
    "    pharmacy = {}\n",
    "    pharmacy['type'] = re.findall(r\"(?<=Type\\s:).+(?=Legal)\", text)[0].strip()\n",
    "    pharmacy['legal_name'] = re.findall(r\"(?<=Legal Name\\s:).+(?=Trade)\", text)[0].strip()\n",
    "    pharmacy['trade_name'] = re.findall(r\"(?<=Trade Name\\s:).+(?=Street)\", text)[0].strip()\n",
    "    address = re.findall(r\"(?<=Street Address\\s:).+(?=Registration No)\", text, flags=re.DOTALL)[0].strip().split('\\n')\n",
    "    address_clean = []\n",
    "    for item in address:\n",
    "        address_clean.append(item.strip())\n",
    "    address = ' '.join(address_clean)\n",
    "    address = address.replace('\\xa0', '').replace('\\r', '')\n",
    "    address = re.sub(r\"\\s+(?=\\w+, NY)\", ' ', address)\n",
    "    address = re.sub(r\"\\s+(?=\\d+)\", ' ', address)\n",
    "    pharmacy['street_address'] = address\n",
    "    pharmacy['registration_number'] = re.findall(r\"(?<=Registration No\\s:).+(?=Date)\", text)[0].strip()\n",
    "    pharmacy['date_first_registered'] = re.findall(r\"(?<=Date First Registered\\s:).+(?=Registration)\", text)[0].strip()\n",
    "    pharmacy['registration_begins'] = re.findall(r\"(?<=Registration Begins\\s:).+(?=Registered)\", text)[0].strip()\n",
    "    pharmacy['registration_ends'] = re.findall(r\"(?<=Registered through\\s:)\\s+\\d\\d\\/\\d\\d\\/\\d\\d\", text)[0].strip()\n",
    "    try:\n",
    "        pharmacy['establishment_status'] = re.findall(r\"(?<=Establishment Status\\s:).+(?=Successor)\", text)[0].strip()\n",
    "    except:\n",
    "        pharmacy['establishment_status'] = np.nan\n",
    "    try:\n",
    "        pharmacy['supervisor_no'] = re.findall(r\"(?<=Supervisor\\s:).+(?=\\n)\", text)[0].strip()\n",
    "        pharmacy['supervisor_name'] = re.findall(r\"(?<=\" + re.escape(pharmacy['supervisor_no']) + r\").+\", text)[0].strip()\n",
    "    except:\n",
    "        pharmacy['supervisor_no'] = np.nan\n",
    "        pharmacy['supervisor_name'] = np.nan\n",
    "    try:\n",
    "        pharmacy['successor_no'] = re.findall(r\"(?<=Successor\\s:).+\\d\\d\\d\\d\\d\", text, flags=re.DOTALL)[0].strip()\n",
    "        pharmacy['successor_name'] = re.findall(r\"(?<=\" + re.escape(pharmacy['successor_no']) + r\").+\", text, flags=re.DOTALL)[0].strip()\n",
    "    except:\n",
    "        try:\n",
    "            pharmacy['successor_name'] = re.findall(r\"(?<=Successor\\s:).+NONE\", text)[0].strip()\n",
    "        except:\n",
    "            pharmacy['successor_no'] = np.nan\n",
    "            pharmacy['successor_name'] = np.nan\n",
    "    return pharmacy"
   ]
  },
  {
   "cell_type": "code",
   "execution_count": 4,
   "id": "01e32182",
   "metadata": {},
   "outputs": [],
   "source": [
    "def convert_datetimes(df):\n",
    "    df = df.replace('Not on file', np.nan)\n",
    "    df.date_registered = pd.to_datetime(df.date_registered)\n",
    "    df.registration_begins = pd.to_datetime(df.registration_begins)\n",
    "    df.registration_ends = pd.to_datetime(df.registration_begins)\n",
    "    return df"
   ]
  },
  {
   "cell_type": "code",
   "execution_count": 5,
   "id": "9090bf9d",
   "metadata": {},
   "outputs": [],
   "source": [
    "def extract_batch(filename):\n",
    "    file = open(filename, \"r\")\n",
    "    pharmacy_list = []\n",
    "    text = file.read()\n",
    "    text = text.split('\\n*****\\n')\n",
    "    for pharmacy in text:\n",
    "        if pharmacy != '' and pharmacy != ' ':\n",
    "            data = extract_data(pharmacy)\n",
    "            pharmacy_list.append(data)\n",
    "    file.close()\n",
    "    batch = pd.DataFrame(pharmacy_list)\n",
    "    #batch = convert_datetimes(batch) \n",
    "    return batch"
   ]
  },
  {
   "cell_type": "code",
   "execution_count": 21,
   "id": "6f6b775b",
   "metadata": {},
   "outputs": [],
   "source": [
    "path = '/Users/jmingram/Documents/COLUMBIA/Summer-2022/MP/pharmacy-data'\n",
    "filenames = [f for f in listdir(path) if '.txt' in f]"
   ]
  },
  {
   "cell_type": "code",
   "execution_count": 22,
   "id": "4a68410c",
   "metadata": {},
   "outputs": [
    {
     "data": {
      "text/plain": [
       "['batch_m_to_0_3.txt',\n",
       " 'batch_m_to_0_2.txt',\n",
       " 'batch_m_to_0_1.txt',\n",
       " 'batch_c_and_l.txt',\n",
       " 'batch_d_to_l.txt',\n",
       " 'batch_a_to_c.txt',\n",
       " 'batch_remaining.txt',\n",
       " 'batch_d_to_l_2.txt']"
      ]
     },
     "execution_count": 22,
     "metadata": {},
     "output_type": "execute_result"
    }
   ],
   "source": [
    "filenames"
   ]
  },
  {
   "cell_type": "code",
   "execution_count": 23,
   "id": "8a75bcd7",
   "metadata": {},
   "outputs": [
    {
     "name": "stderr",
     "output_type": "stream",
     "text": [
      "100%|█████████████████████████████████████████████| 8/8 [00:02<00:00,  3.02it/s]\n"
     ]
    }
   ],
   "source": [
    "all_dfs_alpha = []\n",
    "for file in tqdm(filenames):\n",
    "    df = extract_batch('pharmacy-data/' + file)\n",
    "    all_dfs_alpha.append(df)\n",
    "    \n",
    "all_pharmacies_alpha = pd.concat(all_dfs_alpha)"
   ]
  },
  {
   "cell_type": "code",
   "execution_count": 24,
   "id": "16939382",
   "metadata": {},
   "outputs": [],
   "source": [
    "all_pharmacies_alpha.drop_duplicates().to_csv('pharmacy-data-scrape-6-22.csv', index=False)"
   ]
  },
  {
   "cell_type": "code",
   "execution_count": 25,
   "id": "67c346d1",
   "metadata": {},
   "outputs": [
    {
     "data": {
      "text/html": [
       "<div>\n",
       "<style scoped>\n",
       "    .dataframe tbody tr th:only-of-type {\n",
       "        vertical-align: middle;\n",
       "    }\n",
       "\n",
       "    .dataframe tbody tr th {\n",
       "        vertical-align: top;\n",
       "    }\n",
       "\n",
       "    .dataframe thead th {\n",
       "        text-align: right;\n",
       "    }\n",
       "</style>\n",
       "<table border=\"1\" class=\"dataframe\">\n",
       "  <thead>\n",
       "    <tr style=\"text-align: right;\">\n",
       "      <th></th>\n",
       "      <th>type</th>\n",
       "      <th>legal_name</th>\n",
       "      <th>trade_name</th>\n",
       "      <th>street_address</th>\n",
       "      <th>registration_number</th>\n",
       "      <th>date_first_registered</th>\n",
       "      <th>registration_begins</th>\n",
       "      <th>registration_ends</th>\n",
       "      <th>establishment_status</th>\n",
       "      <th>supervisor_no</th>\n",
       "      <th>supervisor_name</th>\n",
       "      <th>successor_no</th>\n",
       "      <th>successor_name</th>\n",
       "    </tr>\n",
       "  </thead>\n",
       "  <tbody>\n",
       "    <tr>\n",
       "      <th>0</th>\n",
       "      <td>PHARMACY</td>\n",
       "      <td>RIVERSIDE DRUG MART, INC.</td>\n",
       "      <td></td>\n",
       "      <td>288 ONTARIO ST. BUFFALO, NY 14207-0000</td>\n",
       "      <td>016282</td>\n",
       "      <td>11/16/78</td>\n",
       "      <td>Not on file</td>\n",
       "      <td>04/10/98</td>\n",
       "      <td>TRANSFER</td>\n",
       "      <td>NaN</td>\n",
       "      <td>NaN</td>\n",
       "      <td>023642</td>\n",
       "      <td>FAY'S INCORPORATED/ ECKERD DRUGS #5019</td>\n",
       "    </tr>\n",
       "    <tr>\n",
       "      <th>1</th>\n",
       "      <td>PHARMACY</td>\n",
       "      <td>RIVERSIDE PHARMACY INC.</td>\n",
       "      <td></td>\n",
       "      <td>2920 8TH AVENUE NEW YORK, NY 10039-0000</td>\n",
       "      <td>026816</td>\n",
       "      <td>11/15/04</td>\n",
       "      <td>11/01/10</td>\n",
       "      <td>12/23/10</td>\n",
       "      <td>TRANSFER</td>\n",
       "      <td>NaN</td>\n",
       "      <td>NaN</td>\n",
       "      <td>030384</td>\n",
       "      <td>RIVERSIDE SRX INC./ RIVERSIDE PHARMACY</td>\n",
       "    </tr>\n",
       "    <tr>\n",
       "      <th>2</th>\n",
       "      <td>PHARMACY</td>\n",
       "      <td>RIVERSIDE REMEDIES RX CORP.</td>\n",
       "      <td></td>\n",
       "      <td>39 LOWER MAIN ST. CALLICOON, NY 12723-0000</td>\n",
       "      <td>033078</td>\n",
       "      <td>10/08/14</td>\n",
       "      <td>10/01/20</td>\n",
       "      <td>09/30/23</td>\n",
       "      <td>NaN</td>\n",
       "      <td>057762</td>\n",
       "      <td></td>\n",
       "      <td>NaN</td>\n",
       "      <td>NaN</td>\n",
       "    </tr>\n",
       "    <tr>\n",
       "      <th>3</th>\n",
       "      <td>PHARMACY</td>\n",
       "      <td>RIVERSIDE RX INC.</td>\n",
       "      <td></td>\n",
       "      <td>5906B RIVERDALE AVE. BRONX, NY 10471-0000</td>\n",
       "      <td>036561</td>\n",
       "      <td>05/31/18</td>\n",
       "      <td>05/31/18</td>\n",
       "      <td>09/05/19</td>\n",
       "      <td>DISCONTINUED</td>\n",
       "      <td>NaN</td>\n",
       "      <td>NaN</td>\n",
       "      <td>NaN</td>\n",
       "      <td>NaN</td>\n",
       "    </tr>\n",
       "    <tr>\n",
       "      <th>4</th>\n",
       "      <td>PHARMACY</td>\n",
       "      <td>RIVERSIDE SRX INC.</td>\n",
       "      <td>RIVERSIDE PHARMACY</td>\n",
       "      <td>2920 FREDERICK DOUGLAS BLVD. NEW YORK, NY 1003...</td>\n",
       "      <td>030384</td>\n",
       "      <td>12/23/10</td>\n",
       "      <td>12/01/19</td>\n",
       "      <td>11/30/22</td>\n",
       "      <td>NaN</td>\n",
       "      <td>NaN</td>\n",
       "      <td>NaN</td>\n",
       "      <td>NaN</td>\n",
       "      <td>NaN</td>\n",
       "    </tr>\n",
       "  </tbody>\n",
       "</table>\n",
       "</div>"
      ],
      "text/plain": [
       "       type                   legal_name          trade_name  \\\n",
       "0  PHARMACY    RIVERSIDE DRUG MART, INC.                       \n",
       "1  PHARMACY      RIVERSIDE PHARMACY INC.                       \n",
       "2  PHARMACY  RIVERSIDE REMEDIES RX CORP.                       \n",
       "3  PHARMACY            RIVERSIDE RX INC.                       \n",
       "4  PHARMACY           RIVERSIDE SRX INC.  RIVERSIDE PHARMACY   \n",
       "\n",
       "                                      street_address registration_number  \\\n",
       "0             288 ONTARIO ST. BUFFALO, NY 14207-0000              016282   \n",
       "1            2920 8TH AVENUE NEW YORK, NY 10039-0000              026816   \n",
       "2         39 LOWER MAIN ST. CALLICOON, NY 12723-0000              033078   \n",
       "3          5906B RIVERDALE AVE. BRONX, NY 10471-0000              036561   \n",
       "4  2920 FREDERICK DOUGLAS BLVD. NEW YORK, NY 1003...              030384   \n",
       "\n",
       "  date_first_registered registration_begins registration_ends  \\\n",
       "0              11/16/78         Not on file          04/10/98   \n",
       "1              11/15/04            11/01/10          12/23/10   \n",
       "2              10/08/14            10/01/20          09/30/23   \n",
       "3              05/31/18            05/31/18          09/05/19   \n",
       "4              12/23/10            12/01/19          11/30/22   \n",
       "\n",
       "  establishment_status supervisor_no supervisor_name successor_no  \\\n",
       "0             TRANSFER           NaN             NaN       023642   \n",
       "1             TRANSFER           NaN             NaN       030384   \n",
       "2                  NaN        057762                          NaN   \n",
       "3         DISCONTINUED           NaN             NaN          NaN   \n",
       "4                  NaN           NaN             NaN          NaN   \n",
       "\n",
       "                           successor_name  \n",
       "0  FAY'S INCORPORATED/ ECKERD DRUGS #5019  \n",
       "1  RIVERSIDE SRX INC./ RIVERSIDE PHARMACY  \n",
       "2                                     NaN  \n",
       "3                                     NaN  \n",
       "4                                     NaN  "
      ]
     },
     "execution_count": 25,
     "metadata": {},
     "output_type": "execute_result"
    }
   ],
   "source": [
    "all_pharmacies_alpha.head()"
   ]
  },
  {
   "cell_type": "code",
   "execution_count": 26,
   "id": "6bd6bd32",
   "metadata": {},
   "outputs": [
    {
     "data": {
      "text/plain": [
       "(15370, 13)"
      ]
     },
     "execution_count": 26,
     "metadata": {},
     "output_type": "execute_result"
    }
   ],
   "source": [
    "all_pharmacies_alpha.shape"
   ]
  },
  {
   "cell_type": "code",
   "execution_count": 27,
   "id": "a697fd8e",
   "metadata": {},
   "outputs": [
    {
     "data": {
      "text/plain": [
       "(14906, 13)"
      ]
     },
     "execution_count": 27,
     "metadata": {},
     "output_type": "execute_result"
    }
   ],
   "source": [
    "all_pharmacies_alpha.drop_duplicates().shape"
   ]
  }
 ],
 "metadata": {
  "kernelspec": {
   "display_name": "Python 3 (ipykernel)",
   "language": "python",
   "name": "python3"
  },
  "language_info": {
   "codemirror_mode": {
    "name": "ipython",
    "version": 3
   },
   "file_extension": ".py",
   "mimetype": "text/x-python",
   "name": "python",
   "nbconvert_exporter": "python",
   "pygments_lexer": "ipython3",
   "version": "3.10.0"
  }
 },
 "nbformat": 4,
 "nbformat_minor": 5
}
