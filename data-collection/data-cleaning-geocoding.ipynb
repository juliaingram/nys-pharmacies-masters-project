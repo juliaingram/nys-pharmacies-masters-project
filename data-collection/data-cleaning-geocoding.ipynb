{
 "cells": [
  {
   "cell_type": "markdown",
   "id": "464f5db6",
   "metadata": {},
   "source": [
    "# Cleaning and geocoding pharmacy data\n",
    "\n",
    "This notebook cleans data scraped from the New York State Department of Education’s Office of the Professions [online verification search engine](http://www.op.nysed.gov/opsearches.htm#rx). It also geocodes the data to generate latitude and longitude coordinates from street addresses using the [HERE API](https://developer.here.com/)."
   ]
  },
  {
   "cell_type": "code",
   "execution_count": 86,
   "id": "f7d0a956",
   "metadata": {},
   "outputs": [],
   "source": [
    "import pandas as pd\n",
    "import requests\n",
    "import wget\n",
    "import re\n",
    "import numpy as np\n",
    "from getpass import getpass\n",
    "\n",
    "pd.set_option('display.max_columns', None)"
   ]
  },
  {
   "cell_type": "code",
   "execution_count": null,
   "id": "1bb6f0fb",
   "metadata": {},
   "outputs": [],
   "source": [
    "%load_ext jupyternotify"
   ]
  },
  {
   "cell_type": "code",
   "execution_count": 88,
   "id": "35c52214",
   "metadata": {},
   "outputs": [],
   "source": [
    "pharmacies = pd.read_csv('pharmacy-data-scrape-6-22.csv', na_values = ['Not on file'],parse_dates=['date_first_registered', \n",
    "                                                                                                   'registration_begins',\n",
    "                                                                                                   'registration_ends'])"
   ]
  },
  {
   "cell_type": "markdown",
   "id": "3dc3ec18",
   "metadata": {},
   "source": [
    "### Dropping pharmacies with suppressed info"
   ]
  },
  {
   "cell_type": "code",
   "execution_count": 94,
   "id": "94908119",
   "metadata": {},
   "outputs": [],
   "source": [
    "pharmacies.drop(pharmacies[(pharmacies.legal_name.str.contains('XX')) & ((pharmacies.trade_name.str.contains('CVS')==False)\\\n",
    "                          | (pharmacies.trade_name.isna()))].index, inplace=True)"
   ]
  },
  {
   "cell_type": "markdown",
   "id": "407076cd",
   "metadata": {},
   "source": [
    "### Cleaning dates, dropping non-retail pharmacies and adding an \"active\" flag next to open pharmacies"
   ]
  },
  {
   "cell_type": "code",
   "execution_count": 95,
   "id": "d7f0e039",
   "metadata": {},
   "outputs": [
    {
     "name": "stdout",
     "output_type": "stream",
     "text": [
      "earliest date registered: 1972-01-01 00:00:00\n",
      "latest date registered: 2071-12-29 00:00:00\n",
      "earliest registration expiration: 1983-10-18 00:00:00\n",
      "latest registration expiration: 2025-10-31 00:00:00\n"
     ]
    }
   ],
   "source": [
    "print('earliest date registered: ' + str(pharmacies.date_first_registered.min()))\n",
    "print('latest date registered: ' + str(pharmacies.date_first_registered.max()))\n",
    "print('earliest registration expiration: ' + str(pharmacies.registration_ends.min()))\n",
    "print('latest registration expiration: ' + str(pharmacies.registration_ends.max()))"
   ]
  },
  {
   "cell_type": "code",
   "execution_count": 96,
   "id": "083305e4",
   "metadata": {},
   "outputs": [
    {
     "data": {
      "text/plain": [
       "(1287, 13)"
      ]
     },
     "execution_count": 96,
     "metadata": {},
     "output_type": "execute_result"
    }
   ],
   "source": [
    "# Num with registration dates in the future\n",
    "pharmacies.query('date_first_registered > \"2022-06-22\"').shape"
   ]
  },
  {
   "cell_type": "code",
   "execution_count": 97,
   "id": "d70653f4",
   "metadata": {},
   "outputs": [],
   "source": [
    "# Changing century on dates in the future\n",
    "pharmacies.loc[pharmacies.date_first_registered > \"2022-06-22\", 'date_first_registered'] = \\\n",
    "pharmacies.date_first_registered - pd.DateOffset(years=100)"
   ]
  },
  {
   "cell_type": "code",
   "execution_count": 98,
   "id": "366286f0",
   "metadata": {},
   "outputs": [
    {
     "data": {
      "text/plain": [
       "(4, 13)"
      ]
     },
     "execution_count": 98,
     "metadata": {},
     "output_type": "execute_result"
    }
   ],
   "source": [
    "pharmacies.query('date_first_registered > registration_ends').shape"
   ]
  },
  {
   "cell_type": "code",
   "execution_count": 99,
   "id": "326f5f33",
   "metadata": {},
   "outputs": [
    {
     "data": {
      "text/plain": [
       "(11, 13)"
      ]
     },
     "execution_count": 99,
     "metadata": {},
     "output_type": "execute_result"
    }
   ],
   "source": [
    "pharmacies.query('date_first_registered > registration_begins').shape"
   ]
  },
  {
   "cell_type": "code",
   "execution_count": 100,
   "id": "429a1b1d",
   "metadata": {},
   "outputs": [
    {
     "name": "stdout",
     "output_type": "stream",
     "text": [
      "earliest date registered: 1927-12-05 00:00:00\n",
      "latest date registered: 2022-06-16 00:00:00\n",
      "earliest registration begins: 1927-12-05 00:00:00\n",
      "latest registration begins: 2022-06-16 00:00:00\n",
      "earliest registration expiration: 1983-10-18 00:00:00\n",
      "latest registration expiration: 2025-10-31 00:00:00\n"
     ]
    }
   ],
   "source": [
    "print('earliest date registered: ' + str(pharmacies.date_first_registered.min()))\n",
    "print('latest date registered: ' + str(pharmacies.date_first_registered.max()))\n",
    "print('earliest registration begins: ' + str(pharmacies.date_first_registered.min()))\n",
    "print('latest registration begins: ' + str(pharmacies.date_first_registered.max()))\n",
    "print('earliest registration expiration: ' + str(pharmacies.registration_ends.min()))\n",
    "print('latest registration expiration: ' + str(pharmacies.registration_ends.max()))"
   ]
  },
  {
   "cell_type": "code",
   "execution_count": 101,
   "id": "5375f83d",
   "metadata": {},
   "outputs": [
    {
     "data": {
      "text/plain": [
       "DISCONTINUED    5493\n",
       "TRANSFER        3613\n",
       "ACTIVE             3\n",
       "Name: establishment_status, dtype: int64"
      ]
     },
     "execution_count": 101,
     "metadata": {},
     "output_type": "execute_result"
    }
   ],
   "source": [
    "pharmacies.establishment_status.value_counts()"
   ]
  },
  {
   "cell_type": "code",
   "execution_count": 102,
   "id": "cfcfcb3d",
   "metadata": {},
   "outputs": [
    {
     "data": {
      "text/html": [
       "<div>\n",
       "<style scoped>\n",
       "    .dataframe tbody tr th:only-of-type {\n",
       "        vertical-align: middle;\n",
       "    }\n",
       "\n",
       "    .dataframe tbody tr th {\n",
       "        vertical-align: top;\n",
       "    }\n",
       "\n",
       "    .dataframe thead th {\n",
       "        text-align: right;\n",
       "    }\n",
       "</style>\n",
       "<table border=\"1\" class=\"dataframe\">\n",
       "  <thead>\n",
       "    <tr style=\"text-align: right;\">\n",
       "      <th></th>\n",
       "      <th>type</th>\n",
       "      <th>legal_name</th>\n",
       "      <th>trade_name</th>\n",
       "      <th>street_address</th>\n",
       "      <th>registration_number</th>\n",
       "      <th>date_first_registered</th>\n",
       "      <th>registration_begins</th>\n",
       "      <th>registration_ends</th>\n",
       "      <th>establishment_status</th>\n",
       "      <th>supervisor_no</th>\n",
       "      <th>supervisor_name</th>\n",
       "      <th>successor_no</th>\n",
       "      <th>successor_name</th>\n",
       "    </tr>\n",
       "  </thead>\n",
       "  <tbody>\n",
       "    <tr>\n",
       "      <th>9180</th>\n",
       "      <td>PHARMACY</td>\n",
       "      <td>NEW YORK STATE DEPARTMENT OF CORRECTIONAL FACI...</td>\n",
       "      <td>NaN</td>\n",
       "      <td>WASHINGTON CORR. FACILITY C/O PHARMACY LOCK II...</td>\n",
       "      <td>19054</td>\n",
       "      <td>1986-04-10</td>\n",
       "      <td>2016-05-01</td>\n",
       "      <td>2016-04-22</td>\n",
       "      <td>NaN</td>\n",
       "      <td>NaN</td>\n",
       "      <td>NaN</td>\n",
       "      <td>NaN</td>\n",
       "      <td>NaN</td>\n",
       "    </tr>\n",
       "    <tr>\n",
       "      <th>9193</th>\n",
       "      <td>PHARMACY</td>\n",
       "      <td>NEW YORK STATE DEPARTMENT OF CORRECTIONAL SERV...</td>\n",
       "      <td>NaN</td>\n",
       "      <td>GOUVERNEUR CORR. FACILITY C/O PHARMACY,P.O. BO...</td>\n",
       "      <td>20959</td>\n",
       "      <td>1991-05-15</td>\n",
       "      <td>2013-06-01</td>\n",
       "      <td>2010-05-27</td>\n",
       "      <td>NaN</td>\n",
       "      <td>NaN</td>\n",
       "      <td>NaN</td>\n",
       "      <td>NaN</td>\n",
       "      <td>NaN</td>\n",
       "    </tr>\n",
       "  </tbody>\n",
       "</table>\n",
       "</div>"
      ],
      "text/plain": [
       "          type                                         legal_name trade_name  \\\n",
       "9180  PHARMACY  NEW YORK STATE DEPARTMENT OF CORRECTIONAL FACI...        NaN   \n",
       "9193  PHARMACY  NEW YORK STATE DEPARTMENT OF CORRECTIONAL SERV...        NaN   \n",
       "\n",
       "                                         street_address  registration_number  \\\n",
       "9180  WASHINGTON CORR. FACILITY C/O PHARMACY LOCK II...                19054   \n",
       "9193  GOUVERNEUR CORR. FACILITY C/O PHARMACY,P.O. BO...                20959   \n",
       "\n",
       "     date_first_registered registration_begins registration_ends  \\\n",
       "9180            1986-04-10          2016-05-01        2016-04-22   \n",
       "9193            1991-05-15          2013-06-01        2010-05-27   \n",
       "\n",
       "     establishment_status  supervisor_no supervisor_name successor_no  \\\n",
       "9180                  NaN            NaN             NaN          NaN   \n",
       "9193                  NaN            NaN             NaN          NaN   \n",
       "\n",
       "     successor_name  \n",
       "9180            NaN  \n",
       "9193            NaN  "
      ]
     },
     "execution_count": 102,
     "metadata": {},
     "output_type": "execute_result"
    }
   ],
   "source": [
    "# No odd registration dates on currently active pharmacies\n",
    "pharmacies.query('(registration_begins > registration_ends) & establishment_status.isna()')"
   ]
  },
  {
   "cell_type": "code",
   "execution_count": 103,
   "id": "5c0320b9",
   "metadata": {},
   "outputs": [
    {
     "data": {
      "text/plain": [
       "(5792, 13)"
      ]
     },
     "execution_count": 103,
     "metadata": {},
     "output_type": "execute_result"
    }
   ],
   "source": [
    "pharmacies.query('establishment_status.isna()').shape"
   ]
  },
  {
   "cell_type": "code",
   "execution_count": 104,
   "id": "cfb7fea9",
   "metadata": {},
   "outputs": [],
   "source": [
    "pharmacies.loc[(pharmacies.registration_ends > \"2022-06-21\"), 'active'] = True \n",
    "pharmacies.active = pharmacies.active.fillna(False)"
   ]
  },
  {
   "cell_type": "code",
   "execution_count": 105,
   "id": "537fb54c",
   "metadata": {},
   "outputs": [
    {
     "data": {
      "text/plain": [
       "False    9534\n",
       "True     5367\n",
       "Name: active, dtype: int64"
      ]
     },
     "execution_count": 105,
     "metadata": {},
     "output_type": "execute_result"
    }
   ],
   "source": [
    "pharmacies.active.value_counts()"
   ]
  },
  {
   "cell_type": "code",
   "execution_count": 106,
   "id": "c2ed7895",
   "metadata": {},
   "outputs": [
    {
     "data": {
      "text/html": [
       "<div>\n",
       "<style scoped>\n",
       "    .dataframe tbody tr th:only-of-type {\n",
       "        vertical-align: middle;\n",
       "    }\n",
       "\n",
       "    .dataframe tbody tr th {\n",
       "        vertical-align: top;\n",
       "    }\n",
       "\n",
       "    .dataframe thead th {\n",
       "        text-align: right;\n",
       "    }\n",
       "</style>\n",
       "<table border=\"1\" class=\"dataframe\">\n",
       "  <thead>\n",
       "    <tr style=\"text-align: right;\">\n",
       "      <th></th>\n",
       "      <th>type</th>\n",
       "      <th>legal_name</th>\n",
       "      <th>trade_name</th>\n",
       "      <th>street_address</th>\n",
       "      <th>registration_number</th>\n",
       "      <th>date_first_registered</th>\n",
       "      <th>registration_begins</th>\n",
       "      <th>registration_ends</th>\n",
       "      <th>establishment_status</th>\n",
       "      <th>supervisor_no</th>\n",
       "      <th>supervisor_name</th>\n",
       "      <th>successor_no</th>\n",
       "      <th>successor_name</th>\n",
       "      <th>active</th>\n",
       "    </tr>\n",
       "  </thead>\n",
       "  <tbody>\n",
       "    <tr>\n",
       "      <th>385</th>\n",
       "      <td>WHOLESLR NOT NYS</td>\n",
       "      <td>A &amp; K DISTRIBUTOR PR LLC</td>\n",
       "      <td>NaN</td>\n",
       "      <td>HANGAR #403 BROMON DR. AGUADILLA, PR 00603-0000</td>\n",
       "      <td>35803</td>\n",
       "      <td>2017-09-06</td>\n",
       "      <td>2020-09-01</td>\n",
       "      <td>2023-08-31</td>\n",
       "      <td>ACTIVE</td>\n",
       "      <td>NaN</td>\n",
       "      <td>NaN</td>\n",
       "      <td>NaN</td>\n",
       "      <td>NaN</td>\n",
       "      <td>True</td>\n",
       "    </tr>\n",
       "    <tr>\n",
       "      <th>390</th>\n",
       "      <td>PHARMACY NOT NYS</td>\n",
       "      <td>A &amp; M PHARMACY LLC</td>\n",
       "      <td>NaN</td>\n",
       "      <td>6564 WINTER GARDEN RD ORLANDO, FL 32835-0000</td>\n",
       "      <td>38454</td>\n",
       "      <td>2020-09-04</td>\n",
       "      <td>2020-09-04</td>\n",
       "      <td>2023-08-31</td>\n",
       "      <td>ACTIVE</td>\n",
       "      <td>NaN</td>\n",
       "      <td>NaN</td>\n",
       "      <td>NaN</td>\n",
       "      <td>NaN</td>\n",
       "      <td>True</td>\n",
       "    </tr>\n",
       "    <tr>\n",
       "      <th>417</th>\n",
       "      <td>PHARMACY NOT NYS</td>\n",
       "      <td>A PLUS PHARMACY &amp; MEDICAL SUPPLY LLC</td>\n",
       "      <td>NaN</td>\n",
       "      <td>1303 SE 17TH STREET STE D1 FORT LAUDERDALE, FL...</td>\n",
       "      <td>39050</td>\n",
       "      <td>2021-08-06</td>\n",
       "      <td>2021-08-06</td>\n",
       "      <td>2024-07-31</td>\n",
       "      <td>ACTIVE</td>\n",
       "      <td>NaN</td>\n",
       "      <td>NaN</td>\n",
       "      <td>NaN</td>\n",
       "      <td>NaN</td>\n",
       "      <td>True</td>\n",
       "    </tr>\n",
       "  </tbody>\n",
       "</table>\n",
       "</div>"
      ],
      "text/plain": [
       "                 type                            legal_name trade_name  \\\n",
       "385  WHOLESLR NOT NYS              A & K DISTRIBUTOR PR LLC        NaN   \n",
       "390  PHARMACY NOT NYS                    A & M PHARMACY LLC        NaN   \n",
       "417  PHARMACY NOT NYS  A PLUS PHARMACY & MEDICAL SUPPLY LLC        NaN   \n",
       "\n",
       "                                        street_address  registration_number  \\\n",
       "385    HANGAR #403 BROMON DR. AGUADILLA, PR 00603-0000                35803   \n",
       "390       6564 WINTER GARDEN RD ORLANDO, FL 32835-0000                38454   \n",
       "417  1303 SE 17TH STREET STE D1 FORT LAUDERDALE, FL...                39050   \n",
       "\n",
       "    date_first_registered registration_begins registration_ends  \\\n",
       "385            2017-09-06          2020-09-01        2023-08-31   \n",
       "390            2020-09-04          2020-09-04        2023-08-31   \n",
       "417            2021-08-06          2021-08-06        2024-07-31   \n",
       "\n",
       "    establishment_status  supervisor_no supervisor_name successor_no  \\\n",
       "385               ACTIVE            NaN             NaN          NaN   \n",
       "390               ACTIVE            NaN             NaN          NaN   \n",
       "417               ACTIVE            NaN             NaN          NaN   \n",
       "\n",
       "    successor_name  active  \n",
       "385            NaN    True  \n",
       "390            NaN    True  \n",
       "417            NaN    True  "
      ]
     },
     "execution_count": 106,
     "metadata": {},
     "output_type": "execute_result"
    }
   ],
   "source": [
    "# Active flag appears equal to null status\n",
    "pharmacies.query('(active == True) & (~establishment_status.isna())')"
   ]
  },
  {
   "cell_type": "code",
   "execution_count": 109,
   "id": "6871b249",
   "metadata": {},
   "outputs": [
    {
     "data": {
      "text/plain": [
       "PHARMACY               14880\n",
       "WHOLESALER                 8\n",
       "WHOLESLR NOT NYS           5\n",
       "PHARMACY NOT NYS           4\n",
       "MANUFACTURER               3\n",
       "WHOLESALER/REPACKER        1\n",
       "Name: type, dtype: int64"
      ]
     },
     "execution_count": 109,
     "metadata": {},
     "output_type": "execute_result"
    }
   ],
   "source": [
    "pharmacies.type.value_counts()"
   ]
  },
  {
   "cell_type": "code",
   "execution_count": 110,
   "id": "ab6e2ad1",
   "metadata": {},
   "outputs": [],
   "source": [
    "# Dropping wholesalers, manufacturers, out of state\n",
    "pharmacies = pharmacies.query('type==\"PHARMACY\"')"
   ]
  },
  {
   "cell_type": "code",
   "execution_count": 111,
   "id": "abe894be",
   "metadata": {},
   "outputs": [],
   "source": [
    "pharmacies = pharmacies.reset_index().drop(columns='index')"
   ]
  },
  {
   "cell_type": "code",
   "execution_count": 74,
   "id": "ec7664f8",
   "metadata": {},
   "outputs": [
    {
     "data": {
      "text/plain": [
       "(14880, 14)"
      ]
     },
     "execution_count": 74,
     "metadata": {},
     "output_type": "execute_result"
    }
   ],
   "source": [
    "pharmacies.shape"
   ]
  },
  {
   "cell_type": "markdown",
   "id": "5c772318",
   "metadata": {},
   "source": [
    "## Geocoding addresses"
   ]
  },
  {
   "cell_type": "code",
   "execution_count": null,
   "id": "e395bf6e",
   "metadata": {},
   "outputs": [],
   "source": [
    "api_key = getpass('Enter your HERE Location Services REST API key: ')"
   ]
  },
  {
   "cell_type": "code",
   "execution_count": 256,
   "id": "f3d7964c",
   "metadata": {},
   "outputs": [],
   "source": [
    "post_request = \\\n",
    "(\"https://batch.geocoder.ls.hereapi.com/6.2/jobs?\"\n",
    "f\"apiKey={api_key}\"\n",
    "\"&indelim=%7C\"\n",
    "\"&outdelim=%7C\"\n",
    "\"&action=run\"\n",
    "\"&outcols=displayLatitude,displayLongitude,locationLabel,\"\n",
    "         \"houseNumber,street,district,city,postalCode,county,state,country\"\n",
    "\"&outputcombined=false\")"
   ]
  },
  {
   "cell_type": "code",
   "execution_count": 257,
   "id": "2ec01f1d",
   "metadata": {},
   "outputs": [],
   "source": [
    "post_body = \"recId|searchText|country\\n\""
   ]
  },
  {
   "cell_type": "code",
   "execution_count": 258,
   "id": "5b0d7a2d",
   "metadata": {},
   "outputs": [],
   "source": [
    "for index, address in enumerate(list(pharmacies.street_address)):\n",
    "    if len(re.findall('\\d.+', address)[0][:-5]) < 6:\n",
    "        reformatted = str(index).zfill(4) + '|' + address[:-5] + '|USA\\n'\n",
    "    else:\n",
    "        reformatted = str(index).zfill(4) + '|' + re.findall('\\d.+', address)[0][:-5] + '|USA\\n'\n",
    "    post_body += reformatted"
   ]
  },
  {
   "cell_type": "code",
   "execution_count": 260,
   "id": "915185c2",
   "metadata": {},
   "outputs": [],
   "source": [
    "response = requests.post(post_request, post_body)"
   ]
  },
  {
   "cell_type": "code",
   "execution_count": 261,
   "id": "9e201533",
   "metadata": {},
   "outputs": [
    {
     "data": {
      "text/plain": [
       "'<?xml version=\"1.0\" encoding=\"UTF-8\" standalone=\"yes\"?><ns2:SearchBatch xmlns:ns2=\"http://www.navteq.com/lbsp/Search-Batch/1\"><Response><MetaInfo><RequestId>cJh8gj7IsKXLjKsCv8N3f6bQw9zT7Axx</RequestId></MetaInfo><Status>accepted</Status><TotalCount>0</TotalCount><ValidCount>0</ValidCount><InvalidCount>0</InvalidCount><ProcessedCount>0</ProcessedCount><PendingCount>0</PendingCount><SuccessCount>0</SuccessCount><ErrorCount>0</ErrorCount></Response></ns2:SearchBatch>'"
      ]
     },
     "execution_count": 261,
     "metadata": {},
     "output_type": "execute_result"
    }
   ],
   "source": [
    "response.text"
   ]
  },
  {
   "cell_type": "code",
   "execution_count": 262,
   "id": "a04fa40e",
   "metadata": {},
   "outputs": [],
   "source": [
    "request_id = re.findall('(?<=RequestId>)[A-Za-z0-9]+', response.text)[0]"
   ]
  },
  {
   "cell_type": "code",
   "execution_count": 263,
   "id": "9e108f74",
   "metadata": {},
   "outputs": [],
   "source": [
    "status_request = f\"https://batch.geocoder.ls.hereapi.com/6.2/jobs/{request_id}?action=status&apiKey={api_key}\""
   ]
  },
  {
   "cell_type": "code",
   "execution_count": 285,
   "id": "a751547c",
   "metadata": {},
   "outputs": [],
   "source": [
    "status = requests.get(status_request)"
   ]
  },
  {
   "cell_type": "code",
   "execution_count": 297,
   "id": "f44a5928",
   "metadata": {},
   "outputs": [
    {
     "name": "stdout",
     "output_type": "stream",
     "text": [
      "<?xml version=\"1.0\" encoding=\"UTF-8\" standalone=\"yes\"?><ns2:SearchBatch xmlns:ns2=\"http://www.navteq.com/lbsp/Search-Batch/1\"><Response><MetaInfo><RequestId>cJh8gj7IsKXLjKsCv8N3f6bQw9zT7Axx</RequestId></MetaInfo><Status>completed</Status><JobStarted>2022-06-23T23:14:28.000Z</JobStarted><JobFinished>2022-06-23T23:15:14.000Z</JobFinished><TotalCount>14880</TotalCount><ValidCount>14880</ValidCount><InvalidCount>1</InvalidCount><ProcessedCount>14880</ProcessedCount><PendingCount>0</PendingCount><SuccessCount>14870</SuccessCount><ErrorCount>10</ErrorCount></Response></ns2:SearchBatch>\n",
      "10 errors\n"
     ]
    }
   ],
   "source": [
    "print(status.text)\n",
    "print(re.findall('(?<=ErrorCount>)\\d+', status.text)[0] + ' errors')"
   ]
  },
  {
   "cell_type": "code",
   "execution_count": 287,
   "id": "d94d55af",
   "metadata": {},
   "outputs": [],
   "source": [
    "results_request = f'https://batch.geocoder.ls.hereapi.com/6.2/jobs/{request_id}/result?apiKey={api_key}'"
   ]
  },
  {
   "cell_type": "code",
   "execution_count": 292,
   "id": "cda06566",
   "metadata": {},
   "outputs": [],
   "source": [
    "result = requests.get(results_request)"
   ]
  },
  {
   "cell_type": "code",
   "execution_count": 301,
   "id": "00d17d8a",
   "metadata": {},
   "outputs": [
    {
     "data": {
      "text/plain": [
       "<Response [200]>"
      ]
     },
     "execution_count": 301,
     "metadata": {},
     "output_type": "execute_result"
    }
   ],
   "source": [
    "result"
   ]
  },
  {
   "cell_type": "code",
   "execution_count": 302,
   "id": "722a42bf",
   "metadata": {},
   "outputs": [
    {
     "name": "stdout",
     "output_type": "stream",
     "text": [
      "100% [........................................................] 511998 / 511998"
     ]
    },
    {
     "data": {
      "text/plain": [
       "'results (3).zip'"
      ]
     },
     "execution_count": 302,
     "metadata": {},
     "output_type": "execute_result"
    }
   ],
   "source": [
    "wget.download(results_request)"
   ]
  },
  {
   "cell_type": "code",
   "execution_count": 303,
   "id": "0ecba444",
   "metadata": {},
   "outputs": [],
   "source": [
    "geocoded = pd.read_csv('results (3).zip', sep='|')"
   ]
  },
  {
   "cell_type": "code",
   "execution_count": 304,
   "id": "041bad74",
   "metadata": {},
   "outputs": [
    {
     "data": {
      "text/html": [
       "<div>\n",
       "<style scoped>\n",
       "    .dataframe tbody tr th:only-of-type {\n",
       "        vertical-align: middle;\n",
       "    }\n",
       "\n",
       "    .dataframe tbody tr th {\n",
       "        vertical-align: top;\n",
       "    }\n",
       "\n",
       "    .dataframe thead th {\n",
       "        text-align: right;\n",
       "    }\n",
       "</style>\n",
       "<table border=\"1\" class=\"dataframe\">\n",
       "  <thead>\n",
       "    <tr style=\"text-align: right;\">\n",
       "      <th></th>\n",
       "      <th>recId</th>\n",
       "      <th>SeqNumber</th>\n",
       "      <th>seqLength</th>\n",
       "      <th>displayLatitude</th>\n",
       "      <th>displayLongitude</th>\n",
       "      <th>postalCode</th>\n",
       "    </tr>\n",
       "  </thead>\n",
       "  <tbody>\n",
       "    <tr>\n",
       "      <th>count</th>\n",
       "      <td>15198.000000</td>\n",
       "      <td>15198.000000</td>\n",
       "      <td>15198.000000</td>\n",
       "      <td>15198.000000</td>\n",
       "      <td>15198.000000</td>\n",
       "      <td>15198.000000</td>\n",
       "    </tr>\n",
       "    <tr>\n",
       "      <th>mean</th>\n",
       "      <td>7435.320963</td>\n",
       "      <td>1.031715</td>\n",
       "      <td>1.063429</td>\n",
       "      <td>41.375352</td>\n",
       "      <td>-74.527569</td>\n",
       "      <td>11712.850836</td>\n",
       "    </tr>\n",
       "    <tr>\n",
       "      <th>std</th>\n",
       "      <td>4295.105460</td>\n",
       "      <td>0.260682</td>\n",
       "      <td>0.413694</td>\n",
       "      <td>0.994317</td>\n",
       "      <td>1.519491</td>\n",
       "      <td>1383.851967</td>\n",
       "    </tr>\n",
       "    <tr>\n",
       "      <th>min</th>\n",
       "      <td>0.000000</td>\n",
       "      <td>1.000000</td>\n",
       "      <td>1.000000</td>\n",
       "      <td>40.132934</td>\n",
       "      <td>-86.018925</td>\n",
       "      <td>10001.000000</td>\n",
       "    </tr>\n",
       "    <tr>\n",
       "      <th>25%</th>\n",
       "      <td>3716.250000</td>\n",
       "      <td>1.000000</td>\n",
       "      <td>1.000000</td>\n",
       "      <td>40.713200</td>\n",
       "      <td>-74.074928</td>\n",
       "      <td>10591.000000</td>\n",
       "    </tr>\n",
       "    <tr>\n",
       "      <th>50%</th>\n",
       "      <td>7432.500000</td>\n",
       "      <td>1.000000</td>\n",
       "      <td>1.000000</td>\n",
       "      <td>40.815290</td>\n",
       "      <td>-73.933970</td>\n",
       "      <td>11367.000000</td>\n",
       "    </tr>\n",
       "    <tr>\n",
       "      <th>75%</th>\n",
       "      <td>11138.750000</td>\n",
       "      <td>1.000000</td>\n",
       "      <td>1.000000</td>\n",
       "      <td>42.116810</td>\n",
       "      <td>-73.826329</td>\n",
       "      <td>12401.000000</td>\n",
       "    </tr>\n",
       "    <tr>\n",
       "      <th>max</th>\n",
       "      <td>14879.000000</td>\n",
       "      <td>10.000000</td>\n",
       "      <td>10.000000</td>\n",
       "      <td>44.992190</td>\n",
       "      <td>-71.937897</td>\n",
       "      <td>46034.000000</td>\n",
       "    </tr>\n",
       "  </tbody>\n",
       "</table>\n",
       "</div>"
      ],
      "text/plain": [
       "              recId     SeqNumber     seqLength  displayLatitude  \\\n",
       "count  15198.000000  15198.000000  15198.000000     15198.000000   \n",
       "mean    7435.320963      1.031715      1.063429        41.375352   \n",
       "std     4295.105460      0.260682      0.413694         0.994317   \n",
       "min        0.000000      1.000000      1.000000        40.132934   \n",
       "25%     3716.250000      1.000000      1.000000        40.713200   \n",
       "50%     7432.500000      1.000000      1.000000        40.815290   \n",
       "75%    11138.750000      1.000000      1.000000        42.116810   \n",
       "max    14879.000000     10.000000     10.000000        44.992190   \n",
       "\n",
       "       displayLongitude    postalCode  \n",
       "count      15198.000000  15198.000000  \n",
       "mean         -74.527569  11712.850836  \n",
       "std            1.519491   1383.851967  \n",
       "min          -86.018925  10001.000000  \n",
       "25%          -74.074928  10591.000000  \n",
       "50%          -73.933970  11367.000000  \n",
       "75%          -73.826329  12401.000000  \n",
       "max          -71.937897  46034.000000  "
      ]
     },
     "execution_count": 304,
     "metadata": {},
     "output_type": "execute_result"
    }
   ],
   "source": [
    "geocoded.describe()"
   ]
  },
  {
   "cell_type": "markdown",
   "id": "46770209",
   "metadata": {},
   "source": [
    "### Cleaning geocode outputs to only have one lat/long pair per pharmacy \n",
    "\n",
    "Use the zip code in the street address in the original data to match with the best geocoded option. "
   ]
  },
  {
   "cell_type": "code",
   "execution_count": 311,
   "id": "8f230c81",
   "metadata": {},
   "outputs": [
    {
     "data": {
      "text/plain": [
       "11364    18\n",
       "11355    17\n",
       "11368    13\n",
       "12065    12\n",
       "11213    10\n",
       "         ..\n",
       "13662     1\n",
       "13642     1\n",
       "12581     1\n",
       "12534     1\n",
       "10128     1\n",
       "Name: postalCode, Length: 183, dtype: int64"
      ]
     },
     "execution_count": 311,
     "metadata": {},
     "output_type": "execute_result"
    }
   ],
   "source": [
    "# Outputs that had more than one lat/long possibility\n",
    "geocoded.query('seqLength > 1').postalCode.value_counts()"
   ]
  },
  {
   "cell_type": "code",
   "execution_count": null,
   "id": "9dd1c147",
   "metadata": {},
   "outputs": [],
   "source": [
    "pharmacies = pharmacies.rename_axis('recId').reset_index()"
   ]
  },
  {
   "cell_type": "code",
   "execution_count": 458,
   "id": "2e33b618",
   "metadata": {},
   "outputs": [],
   "source": [
    "pharmacies_geo = pharmacies.merge(geocoded, on='recId',  how='outer')"
   ]
  },
  {
   "cell_type": "code",
   "execution_count": 366,
   "id": "ec39b521",
   "metadata": {},
   "outputs": [],
   "source": [
    "zipcompare = pharmacies_geo.copy()"
   ]
  },
  {
   "cell_type": "code",
   "execution_count": 383,
   "id": "35891b1b",
   "metadata": {},
   "outputs": [],
   "source": [
    "zipcompare['postalCode'] = zipcompare.street_address.str[-10:-5].astype(float)"
   ]
  },
  {
   "cell_type": "code",
   "execution_count": 462,
   "id": "6b75ab5c",
   "metadata": {},
   "outputs": [],
   "source": [
    "conditions = [pharmacies_geo.postalCode == zipcompare.postalCode,\n",
    "              pharmacies_geo.postalCode != zipcompare.postalCode]\n",
    "\n",
    "choices = [True, False]\n",
    "\n",
    "pharmacies_geo['zip_code_match'] = np.select(conditions, choices)"
   ]
  },
  {
   "cell_type": "code",
   "execution_count": 405,
   "id": "facde361",
   "metadata": {},
   "outputs": [
    {
     "data": {
      "text/plain": [
       "180"
      ]
     },
     "execution_count": 405,
     "metadata": {},
     "output_type": "execute_result"
    }
   ],
   "source": [
    "pharmacies_geo.query('(zip_code_match == 1) & (SeqNumber > 1)').recId.nunique()"
   ]
  },
  {
   "cell_type": "code",
   "execution_count": 419,
   "id": "32846349",
   "metadata": {},
   "outputs": [
    {
     "data": {
      "text/plain": [
       "14408"
      ]
     },
     "execution_count": 419,
     "metadata": {},
     "output_type": "execute_result"
    }
   ],
   "source": [
    "pharmacies_geo.query('(zip_code_match == 1) & (SeqNumber == 1)').recId.nunique()"
   ]
  },
  {
   "cell_type": "code",
   "execution_count": 420,
   "id": "311d1f1b",
   "metadata": {},
   "outputs": [
    {
     "data": {
      "text/plain": [
       "438"
      ]
     },
     "execution_count": 420,
     "metadata": {},
     "output_type": "execute_result"
    }
   ],
   "source": [
    "pharmacies_geo.query('(zip_code_match == 0) & (SeqNumber == 1) & (seqLength == 1)').recId.nunique()"
   ]
  },
  {
   "cell_type": "code",
   "execution_count": 432,
   "id": "902745c1",
   "metadata": {},
   "outputs": [],
   "source": [
    "all_matches_wrong = list(\\\n",
    "pharmacies_geo.query('seqLength > 1').groupby(['recId', 'seqLength', 'zip_code_match'])\\\n",
    ".zip_code_match.count().reset_index(name='num')\\\n",
    ".query('(zip_code_match == 0) & (seqLength == num)').recId)"
   ]
  },
  {
   "cell_type": "code",
   "execution_count": 463,
   "id": "c919524b",
   "metadata": {},
   "outputs": [],
   "source": [
    "pharmacies_geo.drop(pharmacies_geo[(pharmacies_geo.zip_code_match == 0) & \\\n",
    "                                   (pharmacies_geo.seqLength > 1) & \\\n",
    "                                   (pharmacies_geo.recId.isin(all_matches_wrong)==False)]\\\n",
    "                                    .index, inplace=True)"
   ]
  },
  {
   "cell_type": "code",
   "execution_count": 465,
   "id": "67f265ba",
   "metadata": {},
   "outputs": [
    {
     "data": {
      "text/plain": [
       "22"
      ]
     },
     "execution_count": 465,
     "metadata": {},
     "output_type": "execute_result"
    }
   ],
   "source": [
    "pharmacies_geo[pharmacies_geo.recId.isin(all_matches_wrong)].recId.nunique()"
   ]
  },
  {
   "cell_type": "code",
   "execution_count": 466,
   "id": "57fa2087",
   "metadata": {},
   "outputs": [],
   "source": [
    "pharmacies_geo.drop_duplicates(subset='recId', inplace=True)"
   ]
  },
  {
   "cell_type": "code",
   "execution_count": null,
   "id": "42feca74",
   "metadata": {},
   "outputs": [],
   "source": [
    "pharmacies_geo.to_csv('pharmacies_geocoded.csv')"
   ]
  }
 ],
 "metadata": {
  "kernelspec": {
   "display_name": "Python 3 (ipykernel)",
   "language": "python",
   "name": "python3"
  },
  "language_info": {
   "codemirror_mode": {
    "name": "ipython",
    "version": 3
   },
   "file_extension": ".py",
   "mimetype": "text/x-python",
   "name": "python",
   "nbconvert_exporter": "python",
   "pygments_lexer": "ipython3",
   "version": "3.10.0"
  }
 },
 "nbformat": 4,
 "nbformat_minor": 5
}
