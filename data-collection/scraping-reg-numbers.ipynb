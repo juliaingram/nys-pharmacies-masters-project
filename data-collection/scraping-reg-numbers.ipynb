{
 "cells": [
  {
   "cell_type": "markdown",
   "id": "a28347d7",
   "metadata": {},
   "source": [
    "## Scraping New York State pharmacy registration numbers\n",
    "\n",
    "This notebook uses Selenium to scrape pharmacy registration numbers from the New York Department of Education’s Office of the Professions [online verification search engine](http://www.op.nysed.gov/opsearches.htm#rx) on June 21, 2022. All pharmacy owners must register their pharmacy with the Office of the Professions, which oversees the state’s Board of Pharmacy. They are required to renew their registration every three years, and notify the state when they close. \n",
    "\n",
    "These six-digit numbers are each also associated with a webpage containing more information about a pharmacy. Those webpages are scraped in another notebook.\n",
    "\n",
    "The website contains a search engine that requires an input of at least one character to display results. To scrape all results, the scraper searches each letter of the alphabet and the numbers 0-9. The search was limited to retail pharmacies, excluding manufacturers, wholesalers, and outsource facilities."
   ]
  },
  {
   "cell_type": "code",
   "execution_count": 104,
   "id": "1317eba9",
   "metadata": {},
   "outputs": [],
   "source": [
    "import requests\n",
    "from selenium import webdriver\n",
    "from selenium.webdriver.common.by import By\n",
    "from selenium.webdriver.common.keys import Keys\n",
    "from selenium.webdriver.support.ui import Select\n",
    "\n",
    "from webdriver_manager.chrome import ChromeDriverManager\n",
    "\n",
    "import pandas as pd\n",
    "import time\n",
    "from datetime import datetime"
   ]
  },
  {
   "cell_type": "code",
   "execution_count": 172,
   "id": "a1639bc3",
   "metadata": {},
   "outputs": [
    {
     "data": {
      "application/javascript": [
       "if (!(\"Notification\" in window)) {\n",
       "    alert(\"This browser does not support desktop notifications, so the %%notify magic will not work.\");\n",
       "} else if (Notification.permission !== 'granted' && Notification.permission !== 'denied') {\n",
       "    Notification.requestPermission(function (permission) {\n",
       "        if(!('permission' in Notification)) {\n",
       "            Notification.permission = permission;\n",
       "        }\n",
       "    })\n",
       "}\n"
      ],
      "text/plain": [
       "<IPython.core.display.Javascript object>"
      ]
     },
     "metadata": {},
     "output_type": "display_data"
    }
   ],
   "source": [
    "%load_ext jupyternotify"
   ]
  },
  {
   "cell_type": "code",
   "execution_count": 176,
   "id": "9eaccfb8",
   "metadata": {},
   "outputs": [
    {
     "name": "stderr",
     "output_type": "stream",
     "text": [
      "\n",
      "\n",
      "====== WebDriver manager ======\n",
      "Current google-chrome version is 102.0.5005\n",
      "Get LATEST chromedriver version for 102.0.5005 google-chrome\n",
      "Driver [/Users/jmingram/.wdm/drivers/chromedriver/mac64/102.0.5005.61/chromedriver] found in cache\n",
      "/var/folders/tx/ryc062z51z1287rjpvrp4jlc0000gn/T/ipykernel_20210/1503906442.py:1: DeprecationWarning: executable_path has been deprecated, please pass in a Service object\n",
      "  driver = webdriver.Chrome(ChromeDriverManager().install())\n"
     ]
    }
   ],
   "source": [
    "driver = webdriver.Chrome(ChromeDriverManager().install())"
   ]
  },
  {
   "cell_type": "code",
   "execution_count": 170,
   "id": "5cac42ff",
   "metadata": {},
   "outputs": [],
   "source": [
    "url = 'http://www.op.nysed.gov/opsearches.htm#rx'"
   ]
  },
  {
   "cell_type": "code",
   "execution_count": 53,
   "id": "429eb45d",
   "metadata": {},
   "outputs": [],
   "source": [
    "# Entering a letter in the search bar\n",
    "def fill_form(letter):\n",
    "    driver.get(url)\n",
    "    driver.find_element(By.XPATH, '//*[@id=\"content_column\"]/div[4]/form/div[1]/select/option[2]').click()\n",
    "    driver.find_element(By.XPATH, '//*[@id=\"content_column\"]/div[4]/form/div[4]/select/option[1]').click()\n",
    "    driver.find_element(By.XPATH, '//*[@id=\"content_column\"]/div[4]/form/div[5]/select/option[3]').click()\n",
    "    driver.find_element(By.XPATH, '//*[@id=\"content_column\"]/div[4]/form/div[3]/input').send_keys(letter)\n",
    "    driver.find_element(By.XPATH, '//*[@id=\"content_column\"]/div[4]/form/div[6]/input[1]').click()"
   ]
  },
  {
   "cell_type": "code",
   "execution_count": 90,
   "id": "953ed6b0",
   "metadata": {},
   "outputs": [],
   "source": [
    "# Scraping all registration numbers on a page of search results \n",
    "def get_reg_numbers(all_numbers):\n",
    "    for n in driver.find_elements(By.TAG_NAME, 'a')[23:39]:\n",
    "        if n.text == 'Laws & Regulations':\n",
    "            break\n",
    "        all_numbers.append(n.text)\n",
    "    return all_numbers"
   ]
  },
  {
   "cell_type": "code",
   "execution_count": 122,
   "id": "b93144e0",
   "metadata": {},
   "outputs": [],
   "source": [
    "# The page shows a maximum of 16 results. This function clicks to display more, \n",
    "# calling the above function to retrive the numbers as they are displayed\n",
    "def scroll_results(all_numbers):\n",
    "    counter = 0\n",
    "    while len(driver.find_elements(By.TAG_NAME, 'b')) < 2:\n",
    "        time.sleep(1)\n",
    "        all_numbers = get_reg_numbers(all_numbers)\n",
    "        try:\n",
    "            driver.find_element(By.XPATH, '//*[@id=\"content_column\"]/form/input[7]').click()\n",
    "            counter += 1\n",
    "        except:\n",
    "            print('ERROR: ' + counter + ' clicks')\n",
    "    all_numbers = get_reg_numbers(all_numbers)\n",
    "    return all_numbers"
   ]
  },
  {
   "cell_type": "code",
   "execution_count": 99,
   "id": "8177cff9",
   "metadata": {},
   "outputs": [],
   "source": [
    "alphabet = ['a', 'b', 'c', 'd', 'e', 'f', 'g', 'h', 'i', 'j', \n",
    "            'k', 'l', 'm', 'n', 'o', 'p', 'q', 'r', 's', 't', \n",
    "            'u', 'v', 'w', 'x', 'y', 'z', '1', '2', '3', '4',\n",
    "            '5', '6', '7', '8', '9']"
   ]
  },
  {
   "cell_type": "code",
   "execution_count": null,
   "id": "c53e3a4e",
   "metadata": {},
   "outputs": [],
   "source": [
    "%%notify\n",
    "\n",
    "for letter in alphabet:\n",
    "    print(datetime.now().strftime(\"%m/%d/%Y %H:%M:%S\") + ' searching letter ' + letter)\n",
    "    fill_form(letter)\n",
    "    registration_numbers = scroll_results(registration_numbers)\n",
    "    print(len(registration_numbers))\n",
    "    time.sleep(5)"
   ]
  },
  {
   "cell_type": "code",
   "execution_count": 186,
   "id": "d825b8b0",
   "metadata": {},
   "outputs": [],
   "source": [
    "# Write all registration numbers to a text file\n",
    "with open('all_registration_numbers_no_dupes.txt', 'w') as f:\n",
    "    for n in set(registration_numbers):\n",
    "        f.write(\"%s\\n\" % n)\n",
    "    f.close()"
   ]
  },
  {
   "cell_type": "code",
   "execution_count": 165,
   "id": "e05ce588",
   "metadata": {},
   "outputs": [
    {
     "data": {
      "text/plain": [
       "14703"
      ]
     },
     "execution_count": 165,
     "metadata": {},
     "output_type": "execute_result"
    }
   ],
   "source": [
    "len(registration_numbers)"
   ]
  }
 ],
 "metadata": {
  "kernelspec": {
   "display_name": "Python 3 (ipykernel)",
   "language": "python",
   "name": "python3"
  },
  "language_info": {
   "codemirror_mode": {
    "name": "ipython",
    "version": 3
   },
   "file_extension": ".py",
   "mimetype": "text/x-python",
   "name": "python",
   "nbconvert_exporter": "python",
   "pygments_lexer": "ipython3",
   "version": "3.10.0"
  }
 },
 "nbformat": 4,
 "nbformat_minor": 5
}
