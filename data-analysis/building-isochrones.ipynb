{
 "cells": [
  {
   "cell_type": "markdown",
   "id": "892727fc",
   "metadata": {},
   "source": [
    "# Generating isochrones around pharmacies in New York State\n",
    "\n",
    "This notebook uses OpenRouteService to generate isochrones within a 10-minute drive around open pharmacies on June 21, 2017 and June 21, 2022. This data will be used to measure the population living inside and outside that area, calculations done in a separate notebook.\n",
    "\n",
    "New York City was excluded from the analysis since its residents largely walk or use public transit to get around. "
   ]
  },
  {
   "cell_type": "code",
   "execution_count": 1,
   "id": "cc43a2ac",
   "metadata": {},
   "outputs": [],
   "source": [
    "import requests\n",
    "import pandas as pd\n",
    "import geopandas as gpd\n",
    "from tqdm import tqdm\n",
    "import time\n",
    "from getpass import getpass\n",
    "pd.set_option(\"display.max_columns\", None)"
   ]
  },
  {
   "cell_type": "code",
   "execution_count": null,
   "id": "789afb61",
   "metadata": {},
   "outputs": [],
   "source": [
    "api_key = getpass('Enter OpenRouteService API Key: ')"
   ]
  },
  {
   "cell_type": "markdown",
   "id": "f87baa34",
   "metadata": {},
   "source": [
    "## Isochrones for open pharmacies as of June 21, 2022"
   ]
  },
  {
   "cell_type": "code",
   "execution_count": 2,
   "id": "70ff74f4",
   "metadata": {},
   "outputs": [],
   "source": [
    "# File containing pharmacies outside NYC and in Staten Island \n",
    "df = pd.read_csv('data/driving_nys_pharmacies.csv')"
   ]
  },
  {
   "cell_type": "code",
   "execution_count": 6,
   "id": "8c55af3d",
   "metadata": {},
   "outputs": [],
   "source": [
    "# Filtering out Staten Island to focus just on upstate NY \n",
    "df = df.query('county != \"Richmond\"')"
   ]
  },
  {
   "cell_type": "code",
   "execution_count": 7,
   "id": "289e3f40",
   "metadata": {},
   "outputs": [],
   "source": [
    "def get_pair(long, lat):\n",
    "    return [long, lat]\n",
    "    \n",
    "df['long_lat_pair'] = df.apply(lambda x: get_pair(x.displayLongitude, x.displayLatitude), axis=1)"
   ]
  },
  {
   "cell_type": "code",
   "execution_count": 10,
   "id": "49a6d379",
   "metadata": {},
   "outputs": [
    {
     "data": {
      "text/plain": [
       "2443"
      ]
     },
     "execution_count": 10,
     "metadata": {},
     "output_type": "execute_result"
    }
   ],
   "source": [
    "len(list(df.long_lat_pair))"
   ]
  },
  {
   "cell_type": "code",
   "execution_count": null,
   "id": "2f92fb2b",
   "metadata": {},
   "outputs": [],
   "source": [
    "location_list = list(df.long_lat_pair)\n",
    "geoframes = []\n",
    "for i in tqdm(range(0, len(location_list), 5)):\n",
    "    if i % 20 == 0:\n",
    "        time.sleep(60)\n",
    "    body = {\"locations\":location_list[i:i+5],\"range_type\":\"time\", \"range\":[600]} #changed range from 900 to reduce from 15 min to 10\n",
    "\n",
    "    headers = {\n",
    "        'Accept': 'application/json, application/geo+json, application/gpx+xml, img/png; charset=utf-8',\n",
    "        'Authorization': api_key,\n",
    "        'Content-Type': 'application/json; charset=utf-8'\n",
    "    }\n",
    "    call = requests.post('https://api.openrouteservice.org/v2/isochrones/driving-car', json=body, headers=headers)\n",
    "    try:\n",
    "        geoframe = gpd.GeoDataFrame.from_features(call.json())\n",
    "    except:\n",
    "        print(i, call.json())\n",
    "        break\n",
    "    geoframes.append(geoframe)"
   ]
  },
  {
   "cell_type": "code",
   "execution_count": 13,
   "id": "6f5a51fe",
   "metadata": {},
   "outputs": [],
   "source": [
    "geoframe_concat = gpd.GeoDataFrame(pd.concat(geoframes, ignore_index=True))"
   ]
  },
  {
   "cell_type": "code",
   "execution_count": 20,
   "id": "04667700",
   "metadata": {},
   "outputs": [],
   "source": [
    "geoframe_concat = geoframe_concat.drop_duplicates('geometry')"
   ]
  },
  {
   "cell_type": "code",
   "execution_count": 21,
   "id": "80914113",
   "metadata": {},
   "outputs": [
    {
     "name": "stderr",
     "output_type": "stream",
     "text": [
      "/Users/jmingram/.pyenv/versions/3.10.0/lib/python3.10/site-packages/geopandas/geodataframe.py:1351: SettingWithCopyWarning: \n",
      "A value is trying to be set on a copy of a slice from a DataFrame.\n",
      "Try using .loc[row_indexer,col_indexer] = value instead\n",
      "\n",
      "See the caveats in the documentation: https://pandas.pydata.org/pandas-docs/stable/user_guide/indexing.html#returning-a-view-versus-a-copy\n",
      "  super().__setitem__(key, value)\n"
     ]
    }
   ],
   "source": [
    "geoframe_concat['center'] = geoframe_concat['center'].apply(lambda x: ' '.join(str(x)))"
   ]
  },
  {
   "cell_type": "code",
   "execution_count": 22,
   "id": "5e00f972",
   "metadata": {},
   "outputs": [],
   "source": [
    "geoframe_concat.to_file('data/active_driving_isochrones_10min.geojson', driver='GeoJSON')"
   ]
  },
  {
   "cell_type": "markdown",
   "id": "f4902292",
   "metadata": {},
   "source": [
    "## Isochrones for pharmacies open as of June 21, 2017"
   ]
  },
  {
   "cell_type": "code",
   "execution_count": 24,
   "id": "d481054d",
   "metadata": {},
   "outputs": [],
   "source": [
    "api_key = getpass('Enter API Key: ')"
   ]
  },
  {
   "cell_type": "code",
   "execution_count": 25,
   "id": "421472de",
   "metadata": {},
   "outputs": [],
   "source": [
    "all_pharmacies = pd.read_csv('data/pharmacies_geocoded_6_28.csv', parse_dates=['date_first_registered',\n",
    "                                                                    'registration_begins',\n",
    "                                                                    'registration_ends'])"
   ]
  },
  {
   "cell_type": "code",
   "execution_count": 26,
   "id": "612d9903",
   "metadata": {},
   "outputs": [],
   "source": [
    "exclude = ['Queens', 'New York', 'Bronx', 'Kings', 'Richmond']"
   ]
  },
  {
   "cell_type": "code",
   "execution_count": 27,
   "id": "439c2a06",
   "metadata": {},
   "outputs": [],
   "source": [
    "before_frame = all_pharmacies[(all_pharmacies.date_first_registered <= \"2017-06-21\") &\\\n",
    "               (all_pharmacies.registration_ends > \"2017-06-21\") &\\\n",
    "               (all_pharmacies.county.isin(exclude)==False)]"
   ]
  },
  {
   "cell_type": "code",
   "execution_count": 28,
   "id": "9200ba59",
   "metadata": {},
   "outputs": [],
   "source": [
    "before_frame.to_csv('data/driving_pharmacies_2017_snapshot_no_nyc.csv', index=False)"
   ]
  },
  {
   "cell_type": "code",
   "execution_count": 29,
   "id": "14dd43cf",
   "metadata": {},
   "outputs": [
    {
     "data": {
      "text/plain": [
       "(2386, 32)"
      ]
     },
     "execution_count": 29,
     "metadata": {},
     "output_type": "execute_result"
    }
   ],
   "source": [
    "before_frame.shape"
   ]
  },
  {
   "cell_type": "code",
   "execution_count": 30,
   "id": "e75d48bf",
   "metadata": {},
   "outputs": [
    {
     "name": "stderr",
     "output_type": "stream",
     "text": [
      "/var/folders/tx/ryc062z51z1287rjpvrp4jlc0000gn/T/ipykernel_47319/2872414449.py:1: SettingWithCopyWarning: \n",
      "A value is trying to be set on a copy of a slice from a DataFrame.\n",
      "Try using .loc[row_indexer,col_indexer] = value instead\n",
      "\n",
      "See the caveats in the documentation: https://pandas.pydata.org/pandas-docs/stable/user_guide/indexing.html#returning-a-view-versus-a-copy\n",
      "  before_frame['long_lat_pair'] = before_frame.apply(lambda x: get_pair(x.displayLongitude, x.displayLatitude), axis=1)\n"
     ]
    }
   ],
   "source": [
    "before_frame['long_lat_pair'] = before_frame.apply(lambda x: get_pair(x.displayLongitude, x.displayLatitude), axis=1)"
   ]
  },
  {
   "cell_type": "code",
   "execution_count": null,
   "id": "1ebc79d3",
   "metadata": {},
   "outputs": [],
   "source": [
    "before_location_list = list(before_frame.long_lat_pair)\n",
    "before_geoframes = []\n",
    "for i in tqdm(range(0, len(before_location_list), 5)):\n",
    "    if i % 100 == 0:\n",
    "        time.sleep(30)\n",
    "    body = {\"locations\":before_location_list[i:i+5],\"range_type\":\"time\", \"range\":[900]}\n",
    "\n",
    "    headers = {\n",
    "        'Accept': 'application/json, application/geo+json, application/gpx+xml, img/png; charset=utf-8',\n",
    "        'Authorization': api_key,\n",
    "        'Content-Type': 'application/json; charset=utf-8'\n",
    "    }\n",
    "    call = requests.post('https://api.openrouteservice.org/v2/isochrones/driving-car', json=body, headers=headers)\n",
    "    try:\n",
    "        before_geoframe = gpd.GeoDataFrame.from_features(call.json())\n",
    "    except:\n",
    "        print(i, call.json())\n",
    "        break\n",
    "    before_geoframes.append(before_geoframe)"
   ]
  },
  {
   "cell_type": "code",
   "execution_count": 33,
   "id": "22e0c81e",
   "metadata": {},
   "outputs": [],
   "source": [
    "before_geoframe_concat = gpd.GeoDataFrame(pd.concat(before_geoframes, ignore_index=True))"
   ]
  },
  {
   "cell_type": "code",
   "execution_count": 34,
   "id": "9d16173b",
   "metadata": {},
   "outputs": [],
   "source": [
    "before_geoframe_concat = before_geoframe_concat.drop_duplicates('geometry')"
   ]
  },
  {
   "cell_type": "code",
   "execution_count": 35,
   "id": "fb014dab",
   "metadata": {},
   "outputs": [],
   "source": [
    "before_geoframe_concat['center'] = before_geoframe_concat['center'].apply(lambda x: ' '.join(str(x)))"
   ]
  },
  {
   "cell_type": "code",
   "execution_count": 36,
   "id": "e35e5bea",
   "metadata": {},
   "outputs": [],
   "source": [
    "before_geoframe_concat.to_file('data/2017_driving_isochrones_10min.geojson', driver='GeoJSON')"
   ]
  }
 ],
 "metadata": {
  "kernelspec": {
   "display_name": "Python 3 (ipykernel)",
   "language": "python",
   "name": "python3"
  },
  "language_info": {
   "codemirror_mode": {
    "name": "ipython",
    "version": 3
   },
   "file_extension": ".py",
   "mimetype": "text/x-python",
   "name": "python",
   "nbconvert_exporter": "python",
   "pygments_lexer": "ipython3",
   "version": "3.10.0"
  }
 },
 "nbformat": 4,
 "nbformat_minor": 5
}
