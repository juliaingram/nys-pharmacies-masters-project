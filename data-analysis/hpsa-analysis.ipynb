{
 "cells": [
  {
   "cell_type": "markdown",
   "id": "f2a11093",
   "metadata": {},
   "source": [
    "# Change in the number of pharmacies in health professional shortage areas\n",
    "\n",
    "This notebook measures the number of open New York State pharmacies in health professional shortage areas (HPSAs) a federal designation by the Health Resources & Services Administration given to areas lacking in primary care services. The HPSA shapefile was downloaded from the HRSA and then filtered to only include designations in New York State before being read into this notebook.    \n",
    "\n",
    "Open pharmacies from June 2012, 2017 and 2022 were analyzed to look at percent change over five- and ten-year periods across the state as well as within and outside New York City. Pharmacy data is also broken down by category to allow for analysis of change in the number of chain and independent pharmacies in the state."
   ]
  },
  {
   "cell_type": "code",
   "execution_count": 14,
   "id": "866c9b9c",
   "metadata": {},
   "outputs": [],
   "source": [
    "import pandas as pd\n",
    "import geopandas as gpd\n",
    "import cenpy as cen\n",
    "from getpass import getpass"
   ]
  },
  {
   "cell_type": "code",
   "execution_count": 15,
   "id": "cb1673a9",
   "metadata": {},
   "outputs": [],
   "source": [
    "pd.set_option(\"display.max_columns\", None)"
   ]
  },
  {
   "cell_type": "code",
   "execution_count": 16,
   "id": "2487f796",
   "metadata": {},
   "outputs": [
    {
     "name": "stdout",
     "output_type": "stream",
     "text": [
      "Enter your Census API Key: ········\n"
     ]
    }
   ],
   "source": [
    "CENSUS_API_KEY = getpass('Enter your Census API Key: ')"
   ]
  },
  {
   "cell_type": "markdown",
   "id": "fb3e5b4f",
   "metadata": {},
   "source": [
    "## Loading in pharmacy and population data"
   ]
  },
  {
   "cell_type": "code",
   "execution_count": 17,
   "id": "ae42da61",
   "metadata": {},
   "outputs": [],
   "source": [
    "#Read in categorized pharmacy data\n",
    "pharmacies_categorized = pd.read_csv('data/pharmacies_post_04_categorized.csv', parse_dates=['date_first_registered',\n",
    "                                                                                        'registration_begins',\n",
    "                                                                                        'registration_ends'])"
   ]
  },
  {
   "cell_type": "code",
   "execution_count": 18,
   "id": "646196f9",
   "metadata": {},
   "outputs": [],
   "source": [
    "#Geodataframe for pharmacy data\n",
    "pharmacies_cat_geoframe = gpd.GeoDataFrame(pharmacies_categorized, geometry=gpd.points_from_xy\\\n",
    "                                       (pharmacies_categorized.displayLongitude, pharmacies_categorized.displayLatitude),\\\n",
    "                                       crs='epsg:4269')"
   ]
  },
  {
   "cell_type": "code",
   "execution_count": 19,
   "id": "e8825dcb",
   "metadata": {},
   "outputs": [],
   "source": [
    "#Three frames one for each year\n",
    "pharmacies_cat_geoframe_22 = pharmacies_cat_geoframe.query('(registration_ends > \"2022-06-21\") & (date_first_registered < \"2022-06-21\")')\n",
    "pharmacies_cat_geoframe_17 = pharmacies_cat_geoframe.query('(registration_ends > \"2017-06-21\") & (date_first_registered < \"2017-06-21\")')\n",
    "pharmacies_cat_geoframe_12 = pharmacies_cat_geoframe.query('(registration_ends > \"2012-06-21\") & (date_first_registered < \"2012-06-21\")')"
   ]
  },
  {
   "cell_type": "code",
   "execution_count": 20,
   "id": "ce9398b1",
   "metadata": {},
   "outputs": [],
   "source": [
    "# Getting population data to contextualize how widespread HPSAs are\n",
    "con = cen.remote.APIConnection('ACSDT5Y2020',apikey=CENSUS_API_KEY)\n",
    "\n",
    "columns = [\n",
    "    'B01003_001' # Total Population\n",
    "]\n",
    "\n",
    "columns_E = [i+'E' for i in columns]\n",
    "columns_M = [i+'M' for i in columns]\n",
    "\n",
    "g_unit = 'tract'\n",
    "g_filter = {'state':'36'} \n",
    "\n",
    "tract_pop_20 = con.query(columns_E + columns_M, geo_unit=g_unit, geo_filter=g_filter)"
   ]
  },
  {
   "cell_type": "code",
   "execution_count": 21,
   "id": "23ed77ed",
   "metadata": {},
   "outputs": [],
   "source": [
    "# Getting population data to contextualize how widespread HPSAs are\n",
    "con = cen.remote.APIConnection('ACSDT5Y2020',apikey=CENSUS_API_KEY)\n",
    "\n",
    "columns = [\n",
    "    'B01003_001' # Total Population\n",
    "]\n",
    "\n",
    "columns_E = [i+'E' for i in columns]\n",
    "columns_M = [i+'M' for i in columns]\n",
    "\n",
    "g_unit = 'county subdivision'\n",
    "g_filter = {'state':'36'} \n",
    "\n",
    "sub_pop_20 = con.query(columns_E + columns_M, geo_unit=g_unit, geo_filter=g_filter)"
   ]
  },
  {
   "cell_type": "code",
   "execution_count": 22,
   "id": "ebd99e9e",
   "metadata": {},
   "outputs": [],
   "source": [
    "nyc_fips = ['005', '047', '081', '085', '061']"
   ]
  },
  {
   "cell_type": "markdown",
   "id": "9ba18cfb",
   "metadata": {},
   "source": [
    "## HPSA analysis"
   ]
  },
  {
   "cell_type": "code",
   "execution_count": 23,
   "id": "f405db2a",
   "metadata": {},
   "outputs": [],
   "source": [
    "hpsa = gpd.read_file('data/nys_hpsas/')"
   ]
  },
  {
   "cell_type": "code",
   "execution_count": 24,
   "id": "7d246e8d",
   "metadata": {},
   "outputs": [],
   "source": [
    "hpsa = hpsa.query('StAbbr == \"NY\"')"
   ]
  },
  {
   "cell_type": "code",
   "execution_count": 25,
   "id": "0de24450",
   "metadata": {},
   "outputs": [
    {
     "data": {
      "text/plain": [
       "NY    2419\n",
       "Name: CmpStAbbr, dtype: int64"
      ]
     },
     "execution_count": 25,
     "metadata": {},
     "output_type": "execute_result"
    }
   ],
   "source": [
    "hpsa.CmpStAbbr.value_counts()"
   ]
  },
  {
   "cell_type": "code",
   "execution_count": 26,
   "id": "9dc661de",
   "metadata": {},
   "outputs": [
    {
     "data": {
      "text/plain": [
       "Census Tract          2263\n",
       "County Subdivision     118\n",
       "Single County           38\n",
       "Name: CmpTypDes, dtype: int64"
      ]
     },
     "execution_count": 26,
     "metadata": {},
     "output_type": "execute_result"
    }
   ],
   "source": [
    "hpsa.CmpTypDes.value_counts()"
   ]
  },
  {
   "cell_type": "code",
   "execution_count": 27,
   "id": "7c3f8de4",
   "metadata": {},
   "outputs": [],
   "source": [
    "hpsa_subdivs = list(hpsa.query(\"CmpTypDes == 'County Subdivision'\").GeoID)"
   ]
  },
  {
   "cell_type": "code",
   "execution_count": 28,
   "id": "6f64a2ad",
   "metadata": {},
   "outputs": [],
   "source": [
    "tract_pop_20['GEOID'] = tract_pop_20.state + tract_pop_20.county + tract_pop_20.tract\n",
    "sub_pop_20['GEOID'] = sub_pop_20.state + sub_pop_20.county + sub_pop_20['county subdivision']"
   ]
  },
  {
   "cell_type": "code",
   "execution_count": 29,
   "id": "a35b7b97",
   "metadata": {},
   "outputs": [],
   "source": [
    "subdiv_hpsa_pop = sub_pop_20.query('GEOID.isin(@hpsa_subdivs)').B01003_001E.astype(float).sum()"
   ]
  },
  {
   "cell_type": "code",
   "execution_count": 30,
   "id": "cc2023af",
   "metadata": {},
   "outputs": [],
   "source": [
    "total_pop = tract_pop_20.B01003_001E.astype(float).sum()"
   ]
  },
  {
   "cell_type": "code",
   "execution_count": 31,
   "id": "58245c3b",
   "metadata": {},
   "outputs": [
    {
     "data": {
      "text/plain": [
       "2.146432186075332"
      ]
     },
     "execution_count": 31,
     "metadata": {},
     "output_type": "execute_result"
    }
   ],
   "source": [
    "(subdiv_hpsa_pop / total_pop) * 100 # HPSA Subdivs represent only 2% of the state's population"
   ]
  },
  {
   "cell_type": "code",
   "execution_count": 32,
   "id": "ffb0fe44",
   "metadata": {},
   "outputs": [
    {
     "data": {
      "text/plain": [
       "HPSA Population    2215\n",
       "Geographic HPSA     204\n",
       "Name: HpsTypDes, dtype: int64"
      ]
     },
     "execution_count": 32,
     "metadata": {},
     "output_type": "execute_result"
    }
   ],
   "source": [
    "hpsa.HpsTypDes.value_counts()"
   ]
  },
  {
   "cell_type": "code",
   "execution_count": 33,
   "id": "865cb599",
   "metadata": {},
   "outputs": [
    {
     "data": {
      "text/plain": [
       "'2016-12-16'"
      ]
     },
     "execution_count": 33,
     "metadata": {},
     "output_type": "execute_result"
    }
   ],
   "source": [
    "hpsa.HpsDgnLUDT.min() # The HPSA updated the longest ago was in 2016, reflecting the data is fairly recent"
   ]
  },
  {
   "cell_type": "code",
   "execution_count": 54,
   "id": "74b50387",
   "metadata": {},
   "outputs": [],
   "source": [
    "hpsa_designated_geoids = list(hpsa.query(\"HpsStatDes == 'Designated'\").GeoID)"
   ]
  },
  {
   "cell_type": "code",
   "execution_count": 35,
   "id": "b721c569",
   "metadata": {},
   "outputs": [],
   "source": [
    "hpsa_pop = tract_pop_20[tract_pop_20.GEOID\\\n",
    "                        .str.startswith(tuple(hpsa_designated_geoids))].B01003_001E.astype(int).sum()"
   ]
  },
  {
   "cell_type": "code",
   "execution_count": 36,
   "id": "f5179160",
   "metadata": {},
   "outputs": [
    {
     "data": {
      "text/plain": [
       "41.22405456480857"
      ]
     },
     "execution_count": 36,
     "metadata": {},
     "output_type": "execute_result"
    }
   ],
   "source": [
    "# 16% of the population lives in an HPSA. \n",
    "# Subdivs are only a small part of that, so we're not omitting a lot of data by excluding them\n",
    "hpsa_pop / total_pop * 100 "
   ]
  },
  {
   "cell_type": "code",
   "execution_count": 37,
   "id": "50f8910e",
   "metadata": {
    "scrolled": true
   },
   "outputs": [
    {
     "data": {
      "text/plain": [
       "Designated                 1582\n",
       "Proposed For Withdrawal     837\n",
       "Name: HpsStatDes, dtype: int64"
      ]
     },
     "execution_count": 37,
     "metadata": {},
     "output_type": "execute_result"
    }
   ],
   "source": [
    "hpsa.HpsStatDes.value_counts() "
   ]
  },
  {
   "cell_type": "code",
   "execution_count": 38,
   "id": "60e40038",
   "metadata": {},
   "outputs": [],
   "source": [
    "hpsa = hpsa.query(\"HpsStatDes == 'Designated'\") # Excluding HPSAs proposed for withdrawal"
   ]
  },
  {
   "cell_type": "code",
   "execution_count": 39,
   "id": "d901be28",
   "metadata": {},
   "outputs": [],
   "source": [
    "tracts21 = gpd.read_file('data/tl_2021_36_tract/')"
   ]
  },
  {
   "cell_type": "code",
   "execution_count": 42,
   "id": "118bfd23",
   "metadata": {},
   "outputs": [],
   "source": [
    "# Tract level merge with pharmacy data\n",
    "# Using the most recent census tracts for analysis\n",
    "pharmacy_tracts_22 = gpd.sjoin(pharmacies_cat_geoframe_22, tracts21, predicate='intersects') \n",
    "pharmacy_tracts_17 = gpd.sjoin(pharmacies_cat_geoframe_17, tracts21, predicate='intersects') \n",
    "pharmacy_tracts_12 = gpd.sjoin(pharmacies_cat_geoframe_12, tracts21, predicate='intersects') \n",
    "\n",
    "# Creating a binary column for whether a pharmacy is in a HPSA\n",
    "# Using the current designations for analysis\n",
    "pharmacy_tracts_22.loc[pharmacy_tracts_22.GEOID.str.startswith(tuple(hpsa_designated_geoids)), 'is_hpsa'] = True\n",
    "pharmacy_tracts_17.loc[pharmacy_tracts_17.GEOID.str.startswith(tuple(hpsa_designated_geoids)), 'is_hpsa'] = True\n",
    "pharmacy_tracts_12.loc[pharmacy_tracts_12.GEOID.str.startswith(tuple(hpsa_designated_geoids)), 'is_hpsa'] = True"
   ]
  },
  {
   "cell_type": "code",
   "execution_count": 43,
   "id": "39976a15",
   "metadata": {},
   "outputs": [],
   "source": [
    "# Filling in any non-labed tract as a non-HPSA\n",
    "pharmacy_tracts_22.is_hpsa = pharmacy_tracts_22.is_hpsa.fillna(False)\n",
    "pharmacy_tracts_17.is_hpsa = pharmacy_tracts_17.is_hpsa.fillna(False)\n",
    "pharmacy_tracts_12.is_hpsa = pharmacy_tracts_12.is_hpsa.fillna(False)"
   ]
  },
  {
   "cell_type": "code",
   "execution_count": 44,
   "id": "94e22d3e",
   "metadata": {},
   "outputs": [
    {
     "data": {
      "text/html": [
       "<div>\n",
       "<style scoped>\n",
       "    .dataframe tbody tr th:only-of-type {\n",
       "        vertical-align: middle;\n",
       "    }\n",
       "\n",
       "    .dataframe tbody tr th {\n",
       "        vertical-align: top;\n",
       "    }\n",
       "\n",
       "    .dataframe thead th {\n",
       "        text-align: right;\n",
       "    }\n",
       "</style>\n",
       "<table border=\"1\" class=\"dataframe\">\n",
       "  <thead>\n",
       "    <tr style=\"text-align: right;\">\n",
       "      <th></th>\n",
       "      <th>GEOID</th>\n",
       "      <th>category</th>\n",
       "      <th>is_hpsa</th>\n",
       "      <th>num_pharmacies_2022</th>\n",
       "      <th>num_pharmacies_2017</th>\n",
       "      <th>num_pharmacies_2012</th>\n",
       "      <th>change_indep_10yr</th>\n",
       "      <th>change_indep_5yr</th>\n",
       "      <th>change_majchain_10yr</th>\n",
       "      <th>change_majchain_5yr</th>\n",
       "    </tr>\n",
       "  </thead>\n",
       "  <tbody>\n",
       "    <tr>\n",
       "      <th>0</th>\n",
       "      <td>36001000202</td>\n",
       "      <td>HEALTHCARE</td>\n",
       "      <td>False</td>\n",
       "      <td>1.0</td>\n",
       "      <td>0.0</td>\n",
       "      <td>0.0</td>\n",
       "      <td>NaN</td>\n",
       "      <td>NaN</td>\n",
       "      <td>NaN</td>\n",
       "      <td>NaN</td>\n",
       "    </tr>\n",
       "    <tr>\n",
       "      <th>1</th>\n",
       "      <td>36001000202</td>\n",
       "      <td>INDEPENDENT</td>\n",
       "      <td>False</td>\n",
       "      <td>1.0</td>\n",
       "      <td>1.0</td>\n",
       "      <td>0.0</td>\n",
       "      <td>1.0</td>\n",
       "      <td>0.0</td>\n",
       "      <td>NaN</td>\n",
       "      <td>NaN</td>\n",
       "    </tr>\n",
       "    <tr>\n",
       "      <th>2</th>\n",
       "      <td>36001000302</td>\n",
       "      <td>MAJOR CHAIN</td>\n",
       "      <td>False</td>\n",
       "      <td>1.0</td>\n",
       "      <td>3.0</td>\n",
       "      <td>3.0</td>\n",
       "      <td>NaN</td>\n",
       "      <td>NaN</td>\n",
       "      <td>-2.0</td>\n",
       "      <td>-2.0</td>\n",
       "    </tr>\n",
       "    <tr>\n",
       "      <th>3</th>\n",
       "      <td>36001000401</td>\n",
       "      <td>MAJOR CHAIN</td>\n",
       "      <td>False</td>\n",
       "      <td>1.0</td>\n",
       "      <td>1.0</td>\n",
       "      <td>1.0</td>\n",
       "      <td>NaN</td>\n",
       "      <td>NaN</td>\n",
       "      <td>0.0</td>\n",
       "      <td>0.0</td>\n",
       "    </tr>\n",
       "    <tr>\n",
       "      <th>4</th>\n",
       "      <td>36001000403</td>\n",
       "      <td>MAJOR CHAIN</td>\n",
       "      <td>False</td>\n",
       "      <td>2.0</td>\n",
       "      <td>2.0</td>\n",
       "      <td>2.0</td>\n",
       "      <td>NaN</td>\n",
       "      <td>NaN</td>\n",
       "      <td>0.0</td>\n",
       "      <td>0.0</td>\n",
       "    </tr>\n",
       "  </tbody>\n",
       "</table>\n",
       "</div>"
      ],
      "text/plain": [
       "         GEOID     category  is_hpsa  num_pharmacies_2022  \\\n",
       "0  36001000202   HEALTHCARE    False                  1.0   \n",
       "1  36001000202  INDEPENDENT    False                  1.0   \n",
       "2  36001000302  MAJOR CHAIN    False                  1.0   \n",
       "3  36001000401  MAJOR CHAIN    False                  1.0   \n",
       "4  36001000403  MAJOR CHAIN    False                  2.0   \n",
       "\n",
       "   num_pharmacies_2017  num_pharmacies_2012  change_indep_10yr  \\\n",
       "0                  0.0                  0.0                NaN   \n",
       "1                  1.0                  0.0                1.0   \n",
       "2                  3.0                  3.0                NaN   \n",
       "3                  1.0                  1.0                NaN   \n",
       "4                  2.0                  2.0                NaN   \n",
       "\n",
       "   change_indep_5yr  change_majchain_10yr  change_majchain_5yr  \n",
       "0               NaN                   NaN                  NaN  \n",
       "1               0.0                   NaN                  NaN  \n",
       "2               NaN                  -2.0                 -2.0  \n",
       "3               NaN                   0.0                  0.0  \n",
       "4               NaN                   0.0                  0.0  "
      ]
     },
     "execution_count": 44,
     "metadata": {},
     "output_type": "execute_result"
    }
   ],
   "source": [
    "# Generating counts per tract\n",
    "hpsa_cat_2022 = pharmacy_tracts_22.groupby(['GEOID', 'category', 'is_hpsa']).registration_number.nunique().reset_index(name='num_pharmacies_2022')\n",
    "hpsa_cat_2017 = pharmacy_tracts_17.groupby(['GEOID', 'category', 'is_hpsa']).registration_number.nunique().reset_index(name='num_pharmacies_2017')\n",
    "hpsa_cat_2012 = pharmacy_tracts_12.groupby(['GEOID', 'category', 'is_hpsa']).registration_number.nunique().reset_index(name='num_pharmacies_2012')\n",
    "\n",
    "# Merging counts from all three years\n",
    "hpsa_breakdown_cat = hpsa_cat_2022.merge(hpsa_cat_2017, on=['GEOID', 'category', 'is_hpsa'], how='outer')\\\n",
    "                                   .merge(hpsa_cat_2012, on=['GEOID', 'category', 'is_hpsa'], how='outer')\n",
    "\n",
    "# Tracts with no pharmacies won't show up, fill them in as zeros\n",
    "hpsa_breakdown_cat = hpsa_breakdown_cat.fillna(0)\n",
    "\n",
    "hpsa_breakdown_cat['change_indep_10yr'] = hpsa_breakdown_cat.query(\"category == 'INDEPENDENT'\").num_pharmacies_2022 - hpsa_breakdown_cat.query(\"category == 'INDEPENDENT'\").num_pharmacies_2012\n",
    "hpsa_breakdown_cat['change_indep_5yr'] = hpsa_breakdown_cat.query(\"category == 'INDEPENDENT'\").num_pharmacies_2022 - hpsa_breakdown_cat.query(\"category == 'INDEPENDENT'\").num_pharmacies_2017\n",
    "\n",
    "hpsa_breakdown_cat['change_majchain_10yr'] = hpsa_breakdown_cat.query(\"category == 'MAJOR CHAIN'\").num_pharmacies_2022 - hpsa_breakdown_cat.query(\"category == 'MAJOR CHAIN'\").num_pharmacies_2012\n",
    "hpsa_breakdown_cat['change_majchain_5yr'] = hpsa_breakdown_cat.query(\"category == 'MAJOR CHAIN'\").num_pharmacies_2022 - hpsa_breakdown_cat.query(\"category == 'MAJOR CHAIN'\").num_pharmacies_2017\n",
    "\n",
    "hpsa_breakdown_cat.head()"
   ]
  },
  {
   "cell_type": "code",
   "execution_count": 114,
   "id": "acbd8780",
   "metadata": {},
   "outputs": [],
   "source": [
    "# Writing hpsa data to a CSV\n",
    "hpsa_breakdown_cat.to_csv('data/hpsa_breakdown_categorized_COUNTS.csv', index=False)\n",
    "pharmacy_tracts_22.to_csv('data/hpsa_pharmacies_labeled_2022.csv', index=False)\n",
    "pharmacy_tracts_17.to_csv('data/hpsa_pharmacies_labeled_2017.csv', index=False)"
   ]
  },
  {
   "cell_type": "code",
   "execution_count": 115,
   "id": "139c7704",
   "metadata": {},
   "outputs": [
    {
     "data": {
      "text/plain": [
       "False    1987\n",
       "True     1388\n",
       "Name: is_hpsa, dtype: int64"
      ]
     },
     "execution_count": 115,
     "metadata": {},
     "output_type": "execute_result"
    }
   ],
   "source": [
    "hpsa_cat_2022.is_hpsa.value_counts()"
   ]
  },
  {
   "cell_type": "markdown",
   "id": "b9848244",
   "metadata": {},
   "source": [
    "## Percent change calculations"
   ]
  },
  {
   "cell_type": "markdown",
   "id": "3bf9db6d",
   "metadata": {},
   "source": [
    "### Overall Change"
   ]
  },
  {
   "cell_type": "code",
   "execution_count": 116,
   "id": "90ddd882",
   "metadata": {},
   "outputs": [
    {
     "data": {
      "text/plain": [
       "0.31905195989061075"
      ]
     },
     "execution_count": 116,
     "metadata": {},
     "output_type": "execute_result"
    }
   ],
   "source": [
    "# CHANGE OVERALL\n",
    "# Five year change among all hpsas\n",
    "(hpsa_breakdown_cat.query('is_hpsa').num_pharmacies_2022.sum() - hpsa_breakdown_cat.query('is_hpsa').num_pharmacies_2017.sum())\\\n",
    "/ hpsa_breakdown_cat.query('is_hpsa').num_pharmacies_2017.sum() * 100"
   ]
  },
  {
   "cell_type": "code",
   "execution_count": 117,
   "id": "def4b0df",
   "metadata": {},
   "outputs": [
    {
     "data": {
      "text/plain": [
       "-0.10291595197255575"
      ]
     },
     "execution_count": 117,
     "metadata": {},
     "output_type": "execute_result"
    }
   ],
   "source": [
    "# Five year change among non-hpsas\n",
    "(hpsa_breakdown_cat.query('is_hpsa == False').num_pharmacies_2022.sum() - hpsa_breakdown_cat.query('is_hpsa == False').num_pharmacies_2017.sum())\\\n",
    "/ hpsa_breakdown_cat.query('is_hpsa == False').num_pharmacies_2017.sum() * 100"
   ]
  },
  {
   "cell_type": "code",
   "execution_count": 118,
   "id": "66c74b6a",
   "metadata": {},
   "outputs": [
    {
     "data": {
      "text/plain": [
       "0.07829320806420043"
      ]
     },
     "execution_count": 118,
     "metadata": {},
     "output_type": "execute_result"
    }
   ],
   "source": [
    "# Five year change overall\n",
    "(hpsa_breakdown_cat.num_pharmacies_2022.sum() - hpsa_breakdown_cat.num_pharmacies_2017.sum())\\\n",
    "/ hpsa_breakdown_cat.num_pharmacies_2017.sum() * 100"
   ]
  },
  {
   "cell_type": "markdown",
   "id": "810e1c91",
   "metadata": {},
   "source": [
    "#### NYC "
   ]
  },
  {
   "cell_type": "code",
   "execution_count": 121,
   "id": "7dbe69de",
   "metadata": {},
   "outputs": [],
   "source": [
    "# CHANGE OVERALL - JUST NYC\n",
    "hpsa_breakdown_nyc = hpsa_breakdown_cat[hpsa_breakdown_cat.GEOID.str[2:5].isin(nyc_fips)]"
   ]
  },
  {
   "cell_type": "code",
   "execution_count": 122,
   "id": "bfecbc4e",
   "metadata": {},
   "outputs": [
    {
     "data": {
      "text/plain": [
       "3.818953323903819"
      ]
     },
     "execution_count": 122,
     "metadata": {},
     "output_type": "execute_result"
    }
   ],
   "source": [
    "# Five year change among all hpsas\n",
    "(hpsa_breakdown_nyc.query('is_hpsa').num_pharmacies_2022.sum() - hpsa_breakdown_nyc.query('is_hpsa').num_pharmacies_2017.sum())\\\n",
    "/ hpsa_breakdown_nyc.query('is_hpsa').num_pharmacies_2017.sum() * 100"
   ]
  },
  {
   "cell_type": "code",
   "execution_count": 123,
   "id": "c1836b97",
   "metadata": {
    "scrolled": true
   },
   "outputs": [
    {
     "data": {
      "text/plain": [
       "4.182509505703422"
      ]
     },
     "execution_count": 123,
     "metadata": {},
     "output_type": "execute_result"
    }
   ],
   "source": [
    "# Five year change among all non-hpsas\n",
    "(hpsa_breakdown_nyc.query('is_hpsa==False').num_pharmacies_2022.sum() - hpsa_breakdown_nyc.query('is_hpsa==False').num_pharmacies_2017.sum())\\\n",
    "/ hpsa_breakdown_nyc.query('is_hpsa==False').num_pharmacies_2017.sum() * 100"
   ]
  },
  {
   "cell_type": "code",
   "execution_count": 124,
   "id": "1d5330f0",
   "metadata": {},
   "outputs": [
    {
     "data": {
      "text/plain": [
       "23.56902356902357"
      ]
     },
     "execution_count": 124,
     "metadata": {},
     "output_type": "execute_result"
    }
   ],
   "source": [
    "# Ten year change among all hpsas\n",
    "(hpsa_breakdown_nyc.query('is_hpsa').num_pharmacies_2022.sum() - hpsa_breakdown_nyc.query('is_hpsa').num_pharmacies_2012.sum())\\\n",
    "/ hpsa_breakdown_nyc.query('is_hpsa').num_pharmacies_2012.sum() * 100"
   ]
  },
  {
   "cell_type": "code",
   "execution_count": 125,
   "id": "9f3742ed",
   "metadata": {
    "scrolled": true
   },
   "outputs": [
    {
     "data": {
      "text/plain": [
       "13.881961762261014"
      ]
     },
     "execution_count": 125,
     "metadata": {},
     "output_type": "execute_result"
    }
   ],
   "source": [
    "# Ten year change among all non-hpsas\n",
    "(hpsa_breakdown_nyc.query('is_hpsa==False').num_pharmacies_2022.sum() - hpsa_breakdown_nyc.query('is_hpsa==False').num_pharmacies_2012.sum())\\\n",
    "/ hpsa_breakdown_nyc.query('is_hpsa==False').num_pharmacies_2012.sum() * 100"
   ]
  },
  {
   "cell_type": "markdown",
   "id": "576cc86b",
   "metadata": {},
   "source": [
    "#### Outside NYC"
   ]
  },
  {
   "cell_type": "code",
   "execution_count": 126,
   "id": "5fefbbf2",
   "metadata": {},
   "outputs": [],
   "source": [
    "hpsa_breakdown_not_nyc = hpsa_breakdown_cat[hpsa_breakdown_cat.GEOID.str[2:5].isin(nyc_fips)==False]"
   ]
  },
  {
   "cell_type": "code",
   "execution_count": 127,
   "id": "30f1c9c0",
   "metadata": {},
   "outputs": [
    {
     "data": {
      "text/plain": [
       "-6.0256410256410255"
      ]
     },
     "execution_count": 127,
     "metadata": {},
     "output_type": "execute_result"
    }
   ],
   "source": [
    "# Five year change among all hpsas\n",
    "(hpsa_breakdown_not_nyc.query('is_hpsa').num_pharmacies_2022.sum() - hpsa_breakdown_not_nyc.query('is_hpsa').num_pharmacies_2017.sum())\\\n",
    "/ hpsa_breakdown_not_nyc.query('is_hpsa').num_pharmacies_2017.sum() * 100"
   ]
  },
  {
   "cell_type": "code",
   "execution_count": 128,
   "id": "476b4a4e",
   "metadata": {},
   "outputs": [
    {
     "data": {
      "text/plain": [
       "-3.6249999999999996"
      ]
     },
     "execution_count": 128,
     "metadata": {},
     "output_type": "execute_result"
    }
   ],
   "source": [
    "# Five year change among all non-hpsas\n",
    "(hpsa_breakdown_not_nyc.query('is_hpsa==False').num_pharmacies_2022.sum() - hpsa_breakdown_not_nyc.query('is_hpsa==False').num_pharmacies_2017.sum())\\\n",
    "/ hpsa_breakdown_not_nyc.query('is_hpsa==False').num_pharmacies_2017.sum() * 100"
   ]
  },
  {
   "cell_type": "code",
   "execution_count": 130,
   "id": "8adccb33",
   "metadata": {},
   "outputs": [
    {
     "data": {
      "text/plain": [
       "-8.7173100871731"
      ]
     },
     "execution_count": 130,
     "metadata": {},
     "output_type": "execute_result"
    }
   ],
   "source": [
    "# Ten year change among all hpsas\n",
    "(hpsa_breakdown_not_nyc.query('is_hpsa').num_pharmacies_2022.sum() - hpsa_breakdown_not_nyc.query('is_hpsa').num_pharmacies_2012.sum())\\\n",
    "/ hpsa_breakdown_not_nyc.query('is_hpsa').num_pharmacies_2012.sum() * 100"
   ]
  },
  {
   "cell_type": "code",
   "execution_count": 131,
   "id": "8f8f004a",
   "metadata": {
    "scrolled": true
   },
   "outputs": [
    {
     "data": {
      "text/plain": [
       "-3.6249999999999996"
      ]
     },
     "execution_count": 131,
     "metadata": {},
     "output_type": "execute_result"
    }
   ],
   "source": [
    "# Ten year change among all non-hpsas\n",
    "(hpsa_breakdown_not_nyc.query('is_hpsa==False').num_pharmacies_2022.sum() - hpsa_breakdown_not_nyc.query('is_hpsa==False').num_pharmacies_2012.sum())\\\n",
    "/ hpsa_breakdown_not_nyc.query('is_hpsa==False').num_pharmacies_2012.sum() * 100"
   ]
  },
  {
   "cell_type": "markdown",
   "id": "6b63056e",
   "metadata": {},
   "source": [
    "### Independent pharmacies"
   ]
  },
  {
   "cell_type": "code",
   "execution_count": 132,
   "id": "21e8495b",
   "metadata": {},
   "outputs": [
    {
     "data": {
      "text/plain": [
       "6.217616580310881"
      ]
     },
     "execution_count": 132,
     "metadata": {},
     "output_type": "execute_result"
    }
   ],
   "source": [
    "# Five year percent change among all hpsas independents\n",
    "hpsa_breakdown_cat.query('(is_hpsa) & (category==\"INDEPENDENT\")').change_indep_5yr.sum()\\\n",
    "/ hpsa_breakdown_cat.query('(is_hpsa) & (category==\"INDEPENDENT\")').num_pharmacies_2017.sum() * 100"
   ]
  },
  {
   "cell_type": "code",
   "execution_count": 133,
   "id": "306e853e",
   "metadata": {},
   "outputs": [
    {
     "data": {
      "text/plain": [
       "10.08094186902134"
      ]
     },
     "execution_count": 133,
     "metadata": {},
     "output_type": "execute_result"
    }
   ],
   "source": [
    "# Five year percent change among all non-hpsas independents\n",
    "hpsa_breakdown_cat.query('(is_hpsa == False) & (category==\"INDEPENDENT\")').change_indep_5yr.sum() \\\n",
    "/ hpsa_breakdown_cat.query('(is_hpsa == False) & (category==\"INDEPENDENT\")').num_pharmacies_2017.sum() * 100"
   ]
  },
  {
   "cell_type": "code",
   "execution_count": 134,
   "id": "9be8d0c1",
   "metadata": {},
   "outputs": [
    {
     "data": {
      "text/plain": [
       "8.1549815498155"
      ]
     },
     "execution_count": 134,
     "metadata": {},
     "output_type": "execute_result"
    }
   ],
   "source": [
    "# Five year percent change in independents over all\n",
    "hpsa_breakdown_cat.query('(category==\"INDEPENDENT\")').change_indep_5yr.sum() \\\n",
    "/ hpsa_breakdown_cat.query('(category==\"INDEPENDENT\")').num_pharmacies_2017.sum() * 100"
   ]
  },
  {
   "cell_type": "code",
   "execution_count": 135,
   "id": "c38e9683",
   "metadata": {},
   "outputs": [
    {
     "data": {
      "text/plain": [
       "7.59493670886076"
      ]
     },
     "execution_count": 135,
     "metadata": {},
     "output_type": "execute_result"
    }
   ],
   "source": [
    "# Ten year percent change among all hpsas independents\n",
    "hpsa_breakdown_cat.query('(is_hpsa) & (category==\"INDEPENDENT\")').change_indep_5yr.sum()\\\n",
    "/ hpsa_breakdown_cat.query('(is_hpsa) & (category==\"INDEPENDENT\")').num_pharmacies_2012.sum() * 100"
   ]
  },
  {
   "cell_type": "code",
   "execution_count": 136,
   "id": "41212613",
   "metadata": {},
   "outputs": [
    {
     "data": {
      "text/plain": [
       "11.669505962521294"
      ]
     },
     "execution_count": 136,
     "metadata": {},
     "output_type": "execute_result"
    }
   ],
   "source": [
    "# Ten year percent change among all non-hpsas independents\n",
    "hpsa_breakdown_cat.query('(is_hpsa == False) & (category==\"INDEPENDENT\")').change_indep_5yr.sum() \\\n",
    "/ hpsa_breakdown_cat.query('(is_hpsa == False) & (category==\"INDEPENDENT\")').num_pharmacies_2012.sum() * 100"
   ]
  },
  {
   "cell_type": "code",
   "execution_count": 137,
   "id": "c7bdebf8",
   "metadata": {},
   "outputs": [
    {
     "data": {
      "text/plain": [
       "9.692982456140351"
      ]
     },
     "execution_count": 137,
     "metadata": {},
     "output_type": "execute_result"
    }
   ],
   "source": [
    "# Ten year percent change in independents over all\n",
    "hpsa_breakdown_cat.query('(category==\"INDEPENDENT\")').change_indep_5yr.sum() \\\n",
    "/ hpsa_breakdown_cat.query('(category==\"INDEPENDENT\")').num_pharmacies_2012.sum() * 100"
   ]
  },
  {
   "cell_type": "markdown",
   "id": "14f83796",
   "metadata": {},
   "source": [
    "#### NYC"
   ]
  },
  {
   "cell_type": "code",
   "execution_count": 138,
   "id": "05944236",
   "metadata": {},
   "outputs": [
    {
     "data": {
      "text/plain": [
       "8.391608391608392"
      ]
     },
     "execution_count": 138,
     "metadata": {},
     "output_type": "execute_result"
    }
   ],
   "source": [
    "# Five year percent change among all hpsas independents\n",
    "hpsa_breakdown_nyc.query('(is_hpsa) & (category==\"INDEPENDENT\")').change_indep_5yr.sum()\\\n",
    "/ hpsa_breakdown_nyc.query('(is_hpsa) & (category==\"INDEPENDENT\")').num_pharmacies_2017.sum() * 100"
   ]
  },
  {
   "cell_type": "code",
   "execution_count": 139,
   "id": "ce449a28",
   "metadata": {},
   "outputs": [
    {
     "data": {
      "text/plain": [
       "15.75178997613365"
      ]
     },
     "execution_count": 139,
     "metadata": {},
     "output_type": "execute_result"
    }
   ],
   "source": [
    "# Five year percent change among all non-hpsas independents\n",
    "hpsa_breakdown_nyc.query('(is_hpsa == False) & (category==\"INDEPENDENT\")').change_indep_5yr.sum() \\\n",
    "/ hpsa_breakdown_nyc.query('(is_hpsa == False) & (category==\"INDEPENDENT\")').num_pharmacies_2017.sum() * 100"
   ]
  },
  {
   "cell_type": "code",
   "execution_count": 140,
   "id": "59268ffb",
   "metadata": {},
   "outputs": [
    {
     "data": {
      "text/plain": [
       "11.503531786074673"
      ]
     },
     "execution_count": 140,
     "metadata": {},
     "output_type": "execute_result"
    }
   ],
   "source": [
    "# Five year percent change among all independents\n",
    "hpsa_breakdown_nyc.query('category==\"INDEPENDENT\"').change_indep_5yr.sum() \\\n",
    "/ hpsa_breakdown_nyc.query('category==\"INDEPENDENT\"').num_pharmacies_2017.sum() * 100"
   ]
  },
  {
   "cell_type": "code",
   "execution_count": 141,
   "id": "ed62095f",
   "metadata": {
    "scrolled": true
   },
   "outputs": [
    {
     "data": {
      "text/plain": [
       "38.392857142857146"
      ]
     },
     "execution_count": 141,
     "metadata": {},
     "output_type": "execute_result"
    }
   ],
   "source": [
    "# Ten year precent change among all hpsas independents\n",
    "hpsa_breakdown_nyc.query('(is_hpsa) & (category==\"INDEPENDENT\")').change_indep_10yr.sum() \\\n",
    "/ hpsa_breakdown_nyc.query('(is_hpsa) & (category==\"INDEPENDENT\")').num_pharmacies_2012.sum() * 100"
   ]
  },
  {
   "cell_type": "code",
   "execution_count": 142,
   "id": "1963050e",
   "metadata": {},
   "outputs": [
    {
     "data": {
      "text/plain": [
       "37.5886524822695"
      ]
     },
     "execution_count": 142,
     "metadata": {},
     "output_type": "execute_result"
    }
   ],
   "source": [
    "# Ten year precent change among all non-hpsas independents\n",
    "hpsa_breakdown_nyc.query('(is_hpsa == False) & (category==\"INDEPENDENT\")').change_indep_10yr.sum() \\\n",
    "/ hpsa_breakdown_nyc.query('(is_hpsa == False) & (category==\"INDEPENDENT\")').num_pharmacies_2012.sum() * 100"
   ]
  },
  {
   "cell_type": "code",
   "execution_count": 213,
   "id": "6f5e9564",
   "metadata": {},
   "outputs": [
    {
     "data": {
      "text/plain": [
       "38.038725796377264"
      ]
     },
     "execution_count": 213,
     "metadata": {},
     "output_type": "execute_result"
    }
   ],
   "source": [
    "# Ten year percent change among all independents\n",
    "hpsa_breakdown_nyc.query('category==\"INDEPENDENT\"').change_indep_10yr.sum() \\\n",
    "/ hpsa_breakdown_nyc.query('category==\"INDEPENDENT\"').num_pharmacies_2012.sum() * 100"
   ]
  },
  {
   "cell_type": "markdown",
   "id": "1c756207",
   "metadata": {},
   "source": [
    "#### Outside NYC"
   ]
  },
  {
   "cell_type": "code",
   "execution_count": 143,
   "id": "d6f4b2c3",
   "metadata": {},
   "outputs": [
    {
     "data": {
      "text/plain": [
       "-5.797101449275362"
      ]
     },
     "execution_count": 143,
     "metadata": {},
     "output_type": "execute_result"
    }
   ],
   "source": [
    "# Five year percent change among all hpsas independents\n",
    "hpsa_breakdown_not_nyc.query('(is_hpsa) & (category==\"INDEPENDENT\")').change_indep_5yr.sum()\\\n",
    "/ hpsa_breakdown_not_nyc.query('(is_hpsa) & (category==\"INDEPENDENT\")').num_pharmacies_2017.sum() * 100"
   ]
  },
  {
   "cell_type": "code",
   "execution_count": 144,
   "id": "d6d5f44c",
   "metadata": {},
   "outputs": [
    {
     "data": {
      "text/plain": [
       "0.9596928982725527"
      ]
     },
     "execution_count": 144,
     "metadata": {},
     "output_type": "execute_result"
    }
   ],
   "source": [
    "# Five year percent change among all non-hpsas independents\n",
    "hpsa_breakdown_not_nyc.query('(is_hpsa == False) & (category==\"INDEPENDENT\")').change_indep_5yr.sum() \\\n",
    "/ hpsa_breakdown_not_nyc.query('(is_hpsa == False) & (category==\"INDEPENDENT\")').num_pharmacies_2017.sum() * 100"
   ]
  },
  {
   "cell_type": "code",
   "execution_count": 145,
   "id": "85cfbbef",
   "metadata": {},
   "outputs": [
    {
     "data": {
      "text/plain": [
       "-0.9615384615384616"
      ]
     },
     "execution_count": 145,
     "metadata": {},
     "output_type": "execute_result"
    }
   ],
   "source": [
    "# Five year percent change among all independents\n",
    "hpsa_breakdown_not_nyc.query('(category==\"INDEPENDENT\")').change_indep_5yr.sum()\\\n",
    "/ hpsa_breakdown_not_nyc.query('(category==\"INDEPENDENT\")').num_pharmacies_2017.sum() * 100"
   ]
  },
  {
   "cell_type": "code",
   "execution_count": 146,
   "id": "b15ddc3a",
   "metadata": {
    "scrolled": false
   },
   "outputs": [
    {
     "data": {
      "text/plain": [
       "-7.142857142857142"
      ]
     },
     "execution_count": 146,
     "metadata": {},
     "output_type": "execute_result"
    }
   ],
   "source": [
    "# Ten year precent change among all hpsas independents\n",
    "hpsa_breakdown_not_nyc.query('(is_hpsa) & (category==\"INDEPENDENT\")').change_indep_10yr.sum() \\\n",
    "/ hpsa_breakdown_not_nyc.query('(is_hpsa) & (category==\"INDEPENDENT\")').num_pharmacies_2012.sum() * 100"
   ]
  },
  {
   "cell_type": "code",
   "execution_count": 147,
   "id": "8006f4f1",
   "metadata": {},
   "outputs": [
    {
     "data": {
      "text/plain": [
       "12.153518123667377"
      ]
     },
     "execution_count": 147,
     "metadata": {},
     "output_type": "execute_result"
    }
   ],
   "source": [
    "# Ten year precent change among all non-hpsas independents\n",
    "hpsa_breakdown_not_nyc.query('(is_hpsa == False) & (category==\"INDEPENDENT\")').change_indep_10yr.sum() \\\n",
    "/ hpsa_breakdown_not_nyc.query('(is_hpsa == False) & (category==\"INDEPENDENT\")').num_pharmacies_2012.sum() * 100"
   ]
  },
  {
   "cell_type": "code",
   "execution_count": 214,
   "id": "68123e1a",
   "metadata": {},
   "outputs": [
    {
     "data": {
      "text/plain": [
       "6.185567010309279"
      ]
     },
     "execution_count": 214,
     "metadata": {},
     "output_type": "execute_result"
    }
   ],
   "source": [
    "# Ten year percent change among all independents\n",
    "hpsa_breakdown_not_nyc.query('(category==\"INDEPENDENT\")').change_indep_10yr.sum()\\\n",
    "/ hpsa_breakdown_not_nyc.query('(category==\"INDEPENDENT\")').num_pharmacies_2012.sum() * 100"
   ]
  },
  {
   "cell_type": "markdown",
   "id": "e8e08b66",
   "metadata": {},
   "source": [
    "### Major chains"
   ]
  },
  {
   "cell_type": "code",
   "execution_count": 148,
   "id": "25671b27",
   "metadata": {},
   "outputs": [
    {
     "data": {
      "text/plain": [
       "-12.732474964234623"
      ]
     },
     "execution_count": 148,
     "metadata": {},
     "output_type": "execute_result"
    }
   ],
   "source": [
    "# Five year percent change among all hpsas major chain\n",
    "hpsa_breakdown_cat.query('(is_hpsa) & (category==\"MAJOR CHAIN\")').change_majchain_5yr.sum()\\\n",
    "/ hpsa_breakdown_cat.query('(is_hpsa) & (category==\"MAJOR CHAIN\")').num_pharmacies_2017.sum() * 100"
   ]
  },
  {
   "cell_type": "code",
   "execution_count": 149,
   "id": "50ea7832",
   "metadata": {},
   "outputs": [
    {
     "data": {
      "text/plain": [
       "-11.37546468401487"
      ]
     },
     "execution_count": 149,
     "metadata": {},
     "output_type": "execute_result"
    }
   ],
   "source": [
    "# Five year percent change among all non-hpsas major chain\n",
    "hpsa_breakdown_cat.query('(is_hpsa == False) & (category==\"MAJOR CHAIN\")').change_majchain_5yr.sum() \\\n",
    "/ hpsa_breakdown_cat.query('(is_hpsa == False) & (category==\"MAJOR CHAIN\")').num_pharmacies_2017.sum() * 100"
   ]
  },
  {
   "cell_type": "code",
   "execution_count": 150,
   "id": "36f873dd",
   "metadata": {},
   "outputs": [
    {
     "data": {
      "text/plain": [
       "-11.839530332681017"
      ]
     },
     "execution_count": 150,
     "metadata": {},
     "output_type": "execute_result"
    }
   ],
   "source": [
    "# Five year percent change among all MAJOR CHAINs\n",
    "hpsa_breakdown_cat.query('category==\"MAJOR CHAIN\"').change_majchain_5yr.sum() \\\n",
    "/ hpsa_breakdown_cat.query('category==\"MAJOR CHAIN\"').num_pharmacies_2017.sum() * 100"
   ]
  },
  {
   "cell_type": "code",
   "execution_count": 76,
   "id": "e43f06c9",
   "metadata": {},
   "outputs": [
    {
     "data": {
      "text/plain": [
       "-17.67881241565452"
      ]
     },
     "execution_count": 76,
     "metadata": {},
     "output_type": "execute_result"
    }
   ],
   "source": [
    "# Ten year percent change among all hpsas major chain\n",
    "hpsa_breakdown_cat.query('(is_hpsa) & (category==\"MAJOR CHAIN\")').change_majchain_10yr.sum()\\\n",
    "/ hpsa_breakdown_cat.query('(is_hpsa) & (category==\"MAJOR CHAIN\")').num_pharmacies_2012.sum() * 100"
   ]
  },
  {
   "cell_type": "code",
   "execution_count": 77,
   "id": "44a0d782",
   "metadata": {
    "scrolled": true
   },
   "outputs": [
    {
     "data": {
      "text/plain": [
       "-15.75971731448763"
      ]
     },
     "execution_count": 77,
     "metadata": {},
     "output_type": "execute_result"
    }
   ],
   "source": [
    "# Ten year percent change among all non-hpsas major chain\n",
    "hpsa_breakdown_cat.query('(is_hpsa == False) & (category==\"MAJOR CHAIN\")').change_majchain_10yr.sum() \\\n",
    "/ hpsa_breakdown_cat.query('(is_hpsa == False) & (category==\"MAJOR CHAIN\")').num_pharmacies_2012.sum() * 100"
   ]
  },
  {
   "cell_type": "code",
   "execution_count": 78,
   "id": "3a6addbf",
   "metadata": {},
   "outputs": [
    {
     "data": {
      "text/plain": [
       "-16.41929499072356"
      ]
     },
     "execution_count": 78,
     "metadata": {},
     "output_type": "execute_result"
    }
   ],
   "source": [
    "# Ten year percent change among all MAJOR CHAINs\n",
    "hpsa_breakdown_cat.query('category==\"MAJOR CHAIN\"').change_majchain_10yr.sum() \\\n",
    "/ hpsa_breakdown_cat.query('category==\"MAJOR CHAIN\"').num_pharmacies_2012.sum() * 100"
   ]
  },
  {
   "cell_type": "markdown",
   "id": "c356e62e",
   "metadata": {},
   "source": [
    "#### NYC"
   ]
  },
  {
   "cell_type": "code",
   "execution_count": 151,
   "id": "964ccb4e",
   "metadata": {},
   "outputs": [
    {
     "data": {
      "text/plain": [
       "-20.642201834862387"
      ]
     },
     "execution_count": 151,
     "metadata": {},
     "output_type": "execute_result"
    }
   ],
   "source": [
    "# Five year percent change among all hpsas major chain\n",
    "hpsa_breakdown_nyc.query('(is_hpsa) & (category==\"MAJOR CHAIN\")').change_majchain_5yr.sum()\\\n",
    "/ hpsa_breakdown_nyc.query('(is_hpsa) & (category==\"MAJOR CHAIN\")').num_pharmacies_2017.sum() * 100"
   ]
  },
  {
   "cell_type": "code",
   "execution_count": 152,
   "id": "17c595da",
   "metadata": {},
   "outputs": [
    {
     "data": {
      "text/plain": [
       "-20.048899755501225"
      ]
     },
     "execution_count": 152,
     "metadata": {},
     "output_type": "execute_result"
    }
   ],
   "source": [
    "# Five year percent change among all non-hpsas major chain\n",
    "hpsa_breakdown_nyc.query('(is_hpsa == False) & (category==\"MAJOR CHAIN\")').change_majchain_5yr.sum() \\\n",
    "/ hpsa_breakdown_nyc.query('(is_hpsa == False) & (category==\"MAJOR CHAIN\")').num_pharmacies_2017.sum() * 100"
   ]
  },
  {
   "cell_type": "code",
   "execution_count": 153,
   "id": "f97a16dc",
   "metadata": {},
   "outputs": [
    {
     "data": {
      "text/plain": [
       "-20.25518341307815"
      ]
     },
     "execution_count": 153,
     "metadata": {},
     "output_type": "execute_result"
    }
   ],
   "source": [
    "# Five year percent change among all MAJOR CHAINs\n",
    "hpsa_breakdown_nyc.query('category==\"MAJOR CHAIN\"').change_majchain_5yr.sum() \\\n",
    "/ hpsa_breakdown_nyc.query('category==\"MAJOR CHAIN\"').num_pharmacies_2017.sum() * 100"
   ]
  },
  {
   "cell_type": "code",
   "execution_count": 154,
   "id": "929b901d",
   "metadata": {
    "scrolled": true
   },
   "outputs": [
    {
     "data": {
      "text/plain": [
       "-27.916666666666668"
      ]
     },
     "execution_count": 154,
     "metadata": {},
     "output_type": "execute_result"
    }
   ],
   "source": [
    "# Ten year precent change among all hpsas MAJOR CHAINs\n",
    "hpsa_breakdown_nyc.query('(is_hpsa) & (category==\"MAJOR CHAIN\")').change_majchain_10yr.sum() \\\n",
    "/ hpsa_breakdown_nyc.query('(is_hpsa) & (category==\"MAJOR CHAIN\")').num_pharmacies_2012.sum() * 100"
   ]
  },
  {
   "cell_type": "code",
   "execution_count": 155,
   "id": "abcf6b1d",
   "metadata": {},
   "outputs": [
    {
     "data": {
      "text/plain": [
       "-25.171624713958813"
      ]
     },
     "execution_count": 155,
     "metadata": {},
     "output_type": "execute_result"
    }
   ],
   "source": [
    "# Ten year precent change among all non-hpsas MAJOR CHAINs\n",
    "hpsa_breakdown_nyc.query('(is_hpsa == False) & (category==\"MAJOR CHAIN\")').change_majchain_10yr.sum() \\\n",
    "/ hpsa_breakdown_nyc.query('(is_hpsa == False) & (category==\"MAJOR CHAIN\")').num_pharmacies_2012.sum() * 100"
   ]
  },
  {
   "cell_type": "code",
   "execution_count": 215,
   "id": "41d3b387",
   "metadata": {},
   "outputs": [
    {
     "data": {
      "text/plain": [
       "-26.14475627769572"
      ]
     },
     "execution_count": 215,
     "metadata": {},
     "output_type": "execute_result"
    }
   ],
   "source": [
    "# Five year percent change among all MAJOR CHAINs\n",
    "hpsa_breakdown_nyc.query('category==\"MAJOR CHAIN\"').change_majchain_10yr.sum() \\\n",
    "/ hpsa_breakdown_nyc.query('category==\"MAJOR CHAIN\"').num_pharmacies_2012.sum() * 100"
   ]
  },
  {
   "cell_type": "markdown",
   "id": "73c589ff",
   "metadata": {},
   "source": [
    "#### Outside NYC"
   ]
  },
  {
   "cell_type": "code",
   "execution_count": 156,
   "id": "9962759d",
   "metadata": {},
   "outputs": [
    {
     "data": {
      "text/plain": [
       "-9.147609147609149"
      ]
     },
     "execution_count": 156,
     "metadata": {},
     "output_type": "execute_result"
    }
   ],
   "source": [
    "# Five year percent change among all hpsas MAJOR CHAINs\n",
    "hpsa_breakdown_not_nyc.query('(is_hpsa) & (category==\"MAJOR CHAIN\")').change_majchain_5yr.sum()\\\n",
    "/ hpsa_breakdown_not_nyc.query('(is_hpsa) & (category==\"MAJOR CHAIN\")').num_pharmacies_2017.sum() * 100"
   ]
  },
  {
   "cell_type": "code",
   "execution_count": 157,
   "id": "aa9c98a7",
   "metadata": {
    "scrolled": true
   },
   "outputs": [
    {
     "data": {
      "text/plain": [
       "-7.585470085470085"
      ]
     },
     "execution_count": 157,
     "metadata": {},
     "output_type": "execute_result"
    }
   ],
   "source": [
    "# Five year percent change among all non-hpsas MAJOR CHAINs\n",
    "hpsa_breakdown_not_nyc.query('(is_hpsa == False) & (category==\"MAJOR CHAIN\")').change_majchain_5yr.sum() \\\n",
    "/ hpsa_breakdown_not_nyc.query('(is_hpsa == False) & (category==\"MAJOR CHAIN\")').num_pharmacies_2017.sum() * 100"
   ]
  },
  {
   "cell_type": "code",
   "execution_count": 158,
   "id": "28e12505",
   "metadata": {},
   "outputs": [
    {
     "data": {
      "text/plain": [
       "-8.115737473535638"
      ]
     },
     "execution_count": 158,
     "metadata": {},
     "output_type": "execute_result"
    }
   ],
   "source": [
    "# Five year percent change among all MAJOR CHAINs\n",
    "hpsa_breakdown_not_nyc.query('(category==\"MAJOR CHAIN\")').change_majchain_5yr.sum()\\\n",
    "/ hpsa_breakdown_not_nyc.query('(category==\"MAJOR CHAIN\")').num_pharmacies_2017.sum() * 100"
   ]
  },
  {
   "cell_type": "code",
   "execution_count": 159,
   "id": "6bec80bb",
   "metadata": {
    "scrolled": false
   },
   "outputs": [
    {
     "data": {
      "text/plain": [
       "-12.77445109780439"
      ]
     },
     "execution_count": 159,
     "metadata": {},
     "output_type": "execute_result"
    }
   ],
   "source": [
    "# Ten year precent change among all hpsas MAJOR CHAINs\n",
    "hpsa_breakdown_not_nyc.query('(is_hpsa) & (category==\"MAJOR CHAIN\")').change_majchain_10yr.sum() \\\n",
    "/ hpsa_breakdown_not_nyc.query('(is_hpsa) & (category==\"MAJOR CHAIN\")').num_pharmacies_2012.sum() * 100"
   ]
  },
  {
   "cell_type": "code",
   "execution_count": 160,
   "id": "a595487e",
   "metadata": {},
   "outputs": [
    {
     "data": {
      "text/plain": [
       "-11.554192229038856"
      ]
     },
     "execution_count": 160,
     "metadata": {},
     "output_type": "execute_result"
    }
   ],
   "source": [
    "# Ten year precent change among all non-hpsas MAJOR CHAINs\n",
    "hpsa_breakdown_not_nyc.query('(is_hpsa == False) & (category==\"MAJOR CHAIN\")').change_majchain_10yr.sum() \\\n",
    "/ hpsa_breakdown_not_nyc.query('(is_hpsa == False) & (category==\"MAJOR CHAIN\")').num_pharmacies_2012.sum() * 100"
   ]
  },
  {
   "cell_type": "code",
   "execution_count": 216,
   "id": "124101ee",
   "metadata": {},
   "outputs": [
    {
     "data": {
      "text/plain": [
       "-11.967545638945234"
      ]
     },
     "execution_count": 216,
     "metadata": {},
     "output_type": "execute_result"
    }
   ],
   "source": [
    "# Five year percent change among all MAJOR CHAINs\n",
    "hpsa_breakdown_not_nyc.query('(category==\"MAJOR CHAIN\")').change_majchain_10yr.sum()\\\n",
    "/ hpsa_breakdown_not_nyc.query('(category==\"MAJOR CHAIN\")').num_pharmacies_2012.sum() * 100"
   ]
  }
 ],
 "metadata": {
  "kernelspec": {
   "display_name": "Python 3 (ipykernel)",
   "language": "python",
   "name": "python3"
  },
  "language_info": {
   "codemirror_mode": {
    "name": "ipython",
    "version": 3
   },
   "file_extension": ".py",
   "mimetype": "text/x-python",
   "name": "python",
   "nbconvert_exporter": "python",
   "pygments_lexer": "ipython3",
   "version": "3.10.0"
  }
 },
 "nbformat": 4,
 "nbformat_minor": 5
}
