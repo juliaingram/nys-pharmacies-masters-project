{
 "cells": [
  {
   "cell_type": "markdown",
   "id": "66e1d5ff",
   "metadata": {},
   "source": [
    "# Categorizing New York pharmacies\n",
    "\n",
    "This notebook categorizes pharmacies in New York as either independent, part of a major chain, part of a minor chain, publicly owned, or part of a healthcare facility. \n",
    "\n",
    "It also contains some exploratory visualization on change in the number of pharmacies overall and by category over time.\n",
    "\n",
    "The list of terms/company names in each of the category lists was manually built by looking at the most frequently recurring names in the dataset (i.e. pharmacies under common ownership with the most locations)."
   ]
  },
  {
   "cell_type": "code",
   "execution_count": 28,
   "id": "6dbaa173",
   "metadata": {},
   "outputs": [],
   "source": [
    "pharmacies = pd.read_csv('data/pharmacies_geocoded_6_28.csv', parse_dates=['registration_ends',\n",
    "                                                               'date_first_registered',\n",
    "                                                               'registration_begins'])"
   ]
  },
  {
   "cell_type": "code",
   "execution_count": 29,
   "id": "ddd8e5eb",
   "metadata": {},
   "outputs": [
    {
     "name": "stderr",
     "output_type": "stream",
     "text": [
      "/var/folders/tx/ryc062z51z1287rjpvrp4jlc0000gn/T/ipykernel_61669/2600133952.py:1: FutureWarning: The default value of regex will change from True to False in a future version. In addition, single character regular expressions will *not* be treated as literal strings when regex=True.\n"
     ]
    }
   ],
   "source": [
    "pharmacies['name_simplified'] = pharmacies.legal_name.str.replace(',', '').str.replace('.', '').str.replace('  ', ' ')"
   ]
  },
  {
   "cell_type": "code",
   "execution_count": 37,
   "id": "983e336d",
   "metadata": {},
   "outputs": [],
   "source": [
    "# Contemporary PBMs emerged after the Medicaid Modernization Act was passed in 2003\n",
    "pharmacies_post_pbm = pharmacies.query('registration_ends > \"2004-01-01\"')"
   ]
  },
  {
   "cell_type": "code",
   "execution_count": 38,
   "id": "7b1a09c9",
   "metadata": {},
   "outputs": [
    {
     "data": {
      "text/plain": [
       "CVS ALBANY LLC                                        607\n",
       "WALGREEN EASTERN CO INC                               538\n",
       "RITE AID OF NEW YORK INC                              391\n",
       "DUANE READE                                           297\n",
       "ECKERD CORPORATION                                    215\n",
       "GENOVESE DRUG STORES INC                              148\n",
       "WAL-MART STORES EAST LP                               102\n",
       "KPH HEALTHCARE SERVICES INC                            82\n",
       "STOP & SHOP SUPERMARKET COMPANY LLC THE                73\n",
       "TOPS MARKETS LLC                                       71\n",
       "TARGET CORPORATION                                     70\n",
       "GOLUB CORPORATION THE                                  53\n",
       "WEGMAN'S FOOD MARKETS INC                              52\n",
       "PATHMARK STORES INC                                    51\n",
       "MARTIN'S FOODS OF SOUTH BURLINGTON LLC                 47\n",
       "KMART CORPORATION                                      44\n",
       "WALDBAUM INC                                           40\n",
       "KING KULLEN PHARMACIES CORP                            22\n",
       "PENN TRAFFIC COMPANY THE                               20\n",
       "NYU LANGONE HOSPITALS                                  20\n",
       "NEW YORK STATE DEPARTMENT OF CORRECTIONAL SERVICES     17\n",
       "COSTCO WHOLESALE CORPORATION                           17\n",
       "TOPS PT LLC                                            16\n",
       "SHOP-RITE SUPERMARKETS INC                             15\n",
       "GENOA HEALTHCARE LLC                                   15\n",
       "MEMORIAL HOSPITAL FOR CANCER AND ALLIED DISEASES       14\n",
       "LONG ISLAND JEWISH MEDICAL CENTER                      13\n",
       "RITE AID DRUG PALACE INC                               13\n",
       "EMBLEMHEALTH SERVICES COMPANY LLC                      13\n",
       "WALGREEN EASTERN COINC                                 12\n",
       "GENESEE VALLEY GROUP HEALTH ASSOCIATION                12\n",
       "GREAT ATLANTIC & PACIFIC TEA CO INC THE                11\n",
       "SAM'S EAST INC                                         11\n",
       "COUNTRY CHEMISTS INC                                   10\n",
       "STATE UNIVERSITY OF NEW YORK                            8\n",
       "NAMDOR INC                                              8\n",
       "HMB PHARMACY MANAGEMENT LLC                             8\n",
       "STRONG MEMORIAL HOSPITAL-UNIVERSITY OF ROCHESTER        8\n",
       "CARDINAL HEALTH 414 LLC                                 7\n",
       "KINNEY DRUGS INC                                        7\n",
       "KALEIDA HEALTH                                          7\n",
       "NEW YORK AND PRESBYTERIAN HOSPITAL THE                  7\n",
       "HENDERSON'S DRUG STORE INC                              7\n",
       "AIDS HEALTHCARE FOUNDATION                              7\n",
       "FAMILYMEDS INC                                          6\n",
       "PHARMACY OPERATIONS OF NEW YORK INC                     6\n",
       "SAINT VINCENTS CATHOLIC MEDICAL CENTERS OF NEW          6\n",
       "OMNICARE OF NEW YORK LLC                                6\n",
       "NEW YORK CITY HEALTH & HOSPITAL CORPORATION             6\n",
       "UNITED HEALTH SERVICES HOSPITALS INC                    6\n",
       "Name: name_simplified, dtype: int64"
      ]
     },
     "execution_count": 38,
     "metadata": {},
     "output_type": "execute_result"
    }
   ],
   "source": [
    "pharmacies_post_pbm.name_simplified.value_counts().nlargest(50)"
   ]
  },
  {
   "cell_type": "code",
   "execution_count": 39,
   "id": "e70835c7",
   "metadata": {},
   "outputs": [],
   "source": [
    "# Saving the above into a dataframe\n",
    "legal_name_counts = pharmacies_post_pbm.name_simplified.value_counts().reset_index(name='num_pharmacies')"
   ]
  },
  {
   "cell_type": "code",
   "execution_count": 40,
   "id": "291c232f",
   "metadata": {},
   "outputs": [],
   "source": [
    "legal_name_counts.columns = ['legal_name', 'num_pharmacies']"
   ]
  },
  {
   "cell_type": "code",
   "execution_count": 69,
   "id": "e6eef930",
   "metadata": {},
   "outputs": [
    {
     "data": {
      "text/html": [
       "<div>\n",
       "<style scoped>\n",
       "    .dataframe tbody tr th:only-of-type {\n",
       "        vertical-align: middle;\n",
       "    }\n",
       "\n",
       "    .dataframe tbody tr th {\n",
       "        vertical-align: top;\n",
       "    }\n",
       "\n",
       "    .dataframe thead th {\n",
       "        text-align: right;\n",
       "    }\n",
       "</style>\n",
       "<table border=\"1\" class=\"dataframe\">\n",
       "  <thead>\n",
       "    <tr style=\"text-align: right;\">\n",
       "      <th></th>\n",
       "      <th>legal_name</th>\n",
       "      <th>num_pharmacies</th>\n",
       "    </tr>\n",
       "  </thead>\n",
       "  <tbody>\n",
       "    <tr>\n",
       "      <th>0</th>\n",
       "      <td>CVS ALBANY LLC</td>\n",
       "      <td>607</td>\n",
       "    </tr>\n",
       "    <tr>\n",
       "      <th>1</th>\n",
       "      <td>WALGREEN EASTERN CO INC</td>\n",
       "      <td>538</td>\n",
       "    </tr>\n",
       "    <tr>\n",
       "      <th>2</th>\n",
       "      <td>RITE AID OF NEW YORK INC</td>\n",
       "      <td>391</td>\n",
       "    </tr>\n",
       "    <tr>\n",
       "      <th>3</th>\n",
       "      <td>DUANE READE</td>\n",
       "      <td>297</td>\n",
       "    </tr>\n",
       "    <tr>\n",
       "      <th>4</th>\n",
       "      <td>ECKERD CORPORATION</td>\n",
       "      <td>215</td>\n",
       "    </tr>\n",
       "  </tbody>\n",
       "</table>\n",
       "</div>"
      ],
      "text/plain": [
       "                 legal_name  num_pharmacies\n",
       "0            CVS ALBANY LLC             607\n",
       "1   WALGREEN EASTERN CO INC             538\n",
       "2  RITE AID OF NEW YORK INC             391\n",
       "3               DUANE READE             297\n",
       "4        ECKERD CORPORATION             215"
      ]
     },
     "execution_count": 69,
     "metadata": {},
     "output_type": "execute_result"
    }
   ],
   "source": [
    "legal_name_counts.head()"
   ]
  },
  {
   "cell_type": "code",
   "execution_count": 35,
   "id": "3881f483",
   "metadata": {},
   "outputs": [],
   "source": [
    "healthcare_pharmacy_terms = ['HOSPITAL', 'MEDICAL CENTER', 'HEALTHCARE CENTER', 'HEALTH CARE CENTER', 'HOSPTIAL',\n",
    "                            'HEALTH CENTER', 'EMBLEMHEALTH', 'GENESEE', 'CARDINAL HEALTH', \n",
    "                            'GENOA HEALTHCARE', 'KALEIDA HEALTH', 'EXCELLUS HEALTH PLAN',\n",
    "                            'MY CHS RX INC', 'NCS HEALTHCARE OF NEW YORK', 'PSYCHIATRIC',\n",
    "                             \"ST. MARY'S HEALTHCARE\", 'HEALTHDIRECT INSTITUTIONAL PHARMACY SERVICES',\n",
    "                            'NURSING HOME', 'GERIATRIC', 'CANCER', 'HEALTHCARE CORPORATION', 'HEALTH SYSTEM', \n",
    "                            'INSURANCE', 'HEALTH CARE FACILITY', 'YORK-PRESBYTERIAN', 'HOME FOR THE AGED',\n",
    "                            'REHAB','HEALTH CARE NETWORK', \"CHILDREN'S CENTER\", 'NUCLEAR', 'HEALTH CARE CORPORATION']\n",
    "public_owned_terms = ['CORRECTION', 'JAIL', 'UNIVERSITY', 'COUNTY DEPARTMENT OF HEALTH']"
   ]
  },
  {
   "cell_type": "code",
   "execution_count": 36,
   "id": "47d98827",
   "metadata": {},
   "outputs": [],
   "source": [
    "# More than 10 locations, or a subsidiary of a major chain also in this list\n",
    "major_chains = ['WALGREEN', 'CVS', 'RITE AID', 'DUANE READE', 'ECKERD', 'GENOVESE', \n",
    "                'WAL-MART', 'WALMART', 'KPH', 'TARGET', 'TOPS', 'STOP & SHOP', \n",
    "                'GOLUB', 'WEGMAN', 'PATHMARK', \"MARTIN'S FOODS OF SOUTH BURLINGTON\", \n",
    "                'KMART', 'WALDBAUM', 'KING KULLEN', 'PENN TRAFFIC CO', \n",
    "                'COSTCO', 'SHOP-RITE', 'SHOPRITE', 'KINNEY DRUGS', 'OMNICARE', \n",
    "                'CORAM HEALTHCARE CORPORATION', 'PRICE CHOPPER']\n",
    "\n",
    "# Chain with 10 or fewer locations that exist as larger companies beyond their NY pharmacy operations\n",
    "minor_chains = ['ACME', 'GRISTEDE', 'GREAT ATLANTIC & PACIFIC', 'NAMDOR', 'FAMILYMEDS',\n",
    "                'AIDS HEALTHCARE FOUNDATION', 'WEIS MARKETS', 'NEW YORK HOTEL TRADES COUNCIL']"
   ]
  },
  {
   "cell_type": "code",
   "execution_count": 42,
   "id": "ff0a7871",
   "metadata": {},
   "outputs": [
    {
     "data": {
      "text/html": [
       "<div>\n",
       "<style scoped>\n",
       "    .dataframe tbody tr th:only-of-type {\n",
       "        vertical-align: middle;\n",
       "    }\n",
       "\n",
       "    .dataframe tbody tr th {\n",
       "        vertical-align: top;\n",
       "    }\n",
       "\n",
       "    .dataframe thead th {\n",
       "        text-align: right;\n",
       "    }\n",
       "</style>\n",
       "<table border=\"1\" class=\"dataframe\">\n",
       "  <thead>\n",
       "    <tr style=\"text-align: right;\">\n",
       "      <th></th>\n",
       "      <th>legal_name</th>\n",
       "      <th>num_pharmacies</th>\n",
       "    </tr>\n",
       "  </thead>\n",
       "  <tbody>\n",
       "    <tr>\n",
       "      <th>36</th>\n",
       "      <td>HMB PHARMACY MANAGEMENT LLC</td>\n",
       "      <td>8</td>\n",
       "    </tr>\n",
       "    <tr>\n",
       "      <th>42</th>\n",
       "      <td>HENDERSON'S DRUG STORE INC</td>\n",
       "      <td>7</td>\n",
       "    </tr>\n",
       "    <tr>\n",
       "      <th>45</th>\n",
       "      <td>PHARMACY OPERATIONS OF NEW YORK INC</td>\n",
       "      <td>6</td>\n",
       "    </tr>\n",
       "    <tr>\n",
       "      <th>52</th>\n",
       "      <td>INSERRA SUPERMARKETS INC</td>\n",
       "      <td>5</td>\n",
       "    </tr>\n",
       "    <tr>\n",
       "      <th>62</th>\n",
       "      <td>CBC PHARMACY INC</td>\n",
       "      <td>4</td>\n",
       "    </tr>\n",
       "    <tr>\n",
       "      <th>63</th>\n",
       "      <td>CLCRESSLER INC</td>\n",
       "      <td>4</td>\n",
       "    </tr>\n",
       "    <tr>\n",
       "      <th>64</th>\n",
       "      <td>GEROULD'S PROFESSIONAL PHARMACY INC</td>\n",
       "      <td>4</td>\n",
       "    </tr>\n",
       "    <tr>\n",
       "      <th>65</th>\n",
       "      <td>OCEAN BREEZE ASSOCIATES LLC</td>\n",
       "      <td>4</td>\n",
       "    </tr>\n",
       "    <tr>\n",
       "      <th>67</th>\n",
       "      <td>PROCARE PHARMACY LLC</td>\n",
       "      <td>4</td>\n",
       "    </tr>\n",
       "    <tr>\n",
       "      <th>70</th>\n",
       "      <td>BIG MART PHARMACY INC</td>\n",
       "      <td>4</td>\n",
       "    </tr>\n",
       "    <tr>\n",
       "      <th>77</th>\n",
       "      <td>BIGELOW'S PHARMACY INC</td>\n",
       "      <td>4</td>\n",
       "    </tr>\n",
       "    <tr>\n",
       "      <th>79</th>\n",
       "      <td>FAMILY PHARMACEUTICAL SERVICES LLC</td>\n",
       "      <td>4</td>\n",
       "    </tr>\n",
       "  </tbody>\n",
       "</table>\n",
       "</div>"
      ],
      "text/plain": [
       "                             legal_name  num_pharmacies\n",
       "36          HMB PHARMACY MANAGEMENT LLC               8\n",
       "42           HENDERSON'S DRUG STORE INC               7\n",
       "45  PHARMACY OPERATIONS OF NEW YORK INC               6\n",
       "52             INSERRA SUPERMARKETS INC               5\n",
       "62                     CBC PHARMACY INC               4\n",
       "63                       CLCRESSLER INC               4\n",
       "64  GEROULD'S PROFESSIONAL PHARMACY INC               4\n",
       "65          OCEAN BREEZE ASSOCIATES LLC               4\n",
       "67                 PROCARE PHARMACY LLC               4\n",
       "70                BIG MART PHARMACY INC               4\n",
       "77               BIGELOW'S PHARMACY INC               4\n",
       "79   FAMILY PHARMACEUTICAL SERVICES LLC               4"
      ]
     },
     "execution_count": 42,
     "metadata": {},
     "output_type": "execute_result"
    }
   ],
   "source": [
    "# Manually verifying pharmacies with under 10 locations but more than 1 are actually independent\n",
    "legal_name_counts[(legal_name_counts.num_pharmacies < 10)\\\n",
    "                  & (legal_name_counts.num_pharmacies > 3)\\\n",
    "                  & (legal_name_counts.legal_name.str.\\\n",
    "                     contains('|'.join(healthcare_pharmacy_terms))==False)\\\n",
    "                  & (legal_name_counts.legal_name.str.\\\n",
    "                     contains('|'.join(public_owned_terms))==False)\n",
    "                  & (legal_name_counts.legal_name.str.\\\n",
    "                     contains('|'.join(major_chains))==False)\\\n",
    "                  & (legal_name_counts.legal_name.str.\\\n",
    "                     contains('|'.join(minor_chains))==False)].head(30)"
   ]
  },
  {
   "cell_type": "code",
   "execution_count": 43,
   "id": "3f017c7a",
   "metadata": {},
   "outputs": [
    {
     "name": "stderr",
     "output_type": "stream",
     "text": [
      "/var/folders/tx/ryc062z51z1287rjpvrp4jlc0000gn/T/ipykernel_61669/1968722477.py:2: SettingWithCopyWarning: \n",
      "A value is trying to be set on a copy of a slice from a DataFrame.\n",
      "Try using .loc[row_indexer,col_indexer] = value instead\n",
      "\n",
      "See the caveats in the documentation: https://pandas.pydata.org/pandas-docs/stable/user_guide/indexing.html#returning-a-view-versus-a-copy\n",
      "/Users/jmingram/.pyenv/versions/3.10.0/lib/python3.10/site-packages/pandas/core/indexing.py:1817: SettingWithCopyWarning: \n",
      "A value is trying to be set on a copy of a slice from a DataFrame.\n",
      "Try using .loc[row_indexer,col_indexer] = value instead\n",
      "\n",
      "See the caveats in the documentation: https://pandas.pydata.org/pandas-docs/stable/user_guide/indexing.html#returning-a-view-versus-a-copy\n"
     ]
    }
   ],
   "source": [
    "# Categorizing in the dataframe\n",
    "pharmacies_post_pbm['category'] = np.nan\n",
    "\n",
    "pharmacies_post_pbm.loc[pharmacies_post_pbm.name_simplified.str.\\\n",
    "                        contains('|'.join(public_owned_terms)), 'category'] = 'PUBLIC'\n",
    "\n",
    "pharmacies_post_pbm.loc[pharmacies_post_pbm.name_simplified.str.\\\n",
    "                        contains('|'.join(major_chains)), 'category'] = 'MAJOR CHAIN'\n",
    "\n",
    "pharmacies_post_pbm.loc[pharmacies_post_pbm.name_simplified.str.\\\n",
    "                        contains('|'.join(minor_chains)), 'category'] = 'MINOR CHAIN'\n",
    "\n",
    "pharmacies_post_pbm.loc[(pharmacies_post_pbm.name_simplified.str.\\\n",
    "                        contains('|'.join(healthcare_pharmacy_terms))) | \\\n",
    "                        (pharmacies_post_pbm.trade_name.str.\\\n",
    "                        contains('|'.join(healthcare_pharmacy_terms))) | \\\n",
    "                        ((pharmacies_post_pbm.street_address.str.contains(\"C/O PHARMACY\")) &\\\n",
    "                        (pharmacies_post_pbm.category.isna())), 'category'] = 'HEALTHCARE'\n",
    "\n",
    "pharmacies_post_pbm.loc[(pharmacies_post_pbm.name_simplified\\\n",
    "                         .isin(list(legal_name_counts.query('num_pharmacies < 10').legal_name)))\\\n",
    "                        & (pharmacies_post_pbm.category.isna()),\n",
    "                       'category'] = 'INDEPENDENT'"
   ]
  },
  {
   "cell_type": "code",
   "execution_count": 44,
   "id": "88c9a121",
   "metadata": {},
   "outputs": [],
   "source": [
    "pharmacies_post_pbm.to_csv('data/pharmacies_post_04_categorized.csv', index=False)"
   ]
  },
  {
   "cell_type": "code",
   "execution_count": 45,
   "id": "22fb1359",
   "metadata": {},
   "outputs": [
    {
     "data": {
      "text/plain": [
       "INDEPENDENT    5770\n",
       "MAJOR CHAIN    3062\n",
       "HEALTHCARE      797\n",
       "PUBLIC           55\n",
       "MINOR CHAIN      54\n",
       "Name: category, dtype: int64"
      ]
     },
     "execution_count": 45,
     "metadata": {},
     "output_type": "execute_result"
    }
   ],
   "source": [
    "pharmacies_post_pbm.category.value_counts()"
   ]
  },
  {
   "cell_type": "markdown",
   "id": "0b1a93b8",
   "metadata": {},
   "source": [
    "## Exploratory visualization of the number of pharmacies open over time"
   ]
  },
  {
   "cell_type": "code",
   "execution_count": 46,
   "id": "600be318",
   "metadata": {},
   "outputs": [],
   "source": [
    "def count_opens(start_date, num_years, df):\n",
    "    years = [start_date]\n",
    "    for y in range(num_years):\n",
    "        new_date = start_date + pd.DateOffset(years=1)\n",
    "        start_date = new_date\n",
    "        years.append(new_date)\n",
    "    counts = []\n",
    "    for year in years:\n",
    "        # counts number open on the first of each year\n",
    "        # filters for registered before or on the first of that year and registration ends after the first \n",
    "        num_open = df[(df.date_first_registered <= year) \\\n",
    "                        & (df.registration_ends > year)].shape[0] \n",
    "        counts.append(num_open)\n",
    "    counts_df = {}\n",
    "    counts_df['year'] = years\n",
    "    counts_df['counts'] = counts\n",
    "    return pd.DataFrame(counts_df)"
   ]
  },
  {
   "cell_type": "code",
   "execution_count": 48,
   "id": "63155d9d",
   "metadata": {},
   "outputs": [],
   "source": [
    "nyc = ['New York', 'Queens', 'Kings', 'Bronx', 'Richmond']"
   ]
  },
  {
   "cell_type": "code",
   "execution_count": 49,
   "id": "d5b4f715",
   "metadata": {},
   "outputs": [
    {
     "data": {
      "text/plain": [
       "(2287, 34)"
      ]
     },
     "execution_count": 49,
     "metadata": {},
     "output_type": "execute_result"
    }
   ],
   "source": [
    "df = pharmacies_post_pbm.query('county.isin(@nyc) == False')\n",
    "year = pd.to_datetime('2022-01-01')\n",
    "df[(df.date_first_registered <= year) & (df.registration_ends > year)].shape"
   ]
  },
  {
   "cell_type": "code",
   "execution_count": 51,
   "id": "9dd7d425",
   "metadata": {},
   "outputs": [
    {
     "data": {
      "image/png": "[encoded data removed]",
      "text/plain": [
       "<Figure size 640x480 with 1 Axes>"
      ]
     },
     "metadata": {
      "needs_background": "light"
     },
     "output_type": "display_data"
    },
    {
     "data": {
      "text/plain": [
       "<ggplot: (314020105)>"
      ]
     },
     "metadata": {},
     "output_type": "display_data"
    }
   ],
   "source": [
    "def custom_format(breaks):\n",
    "    fmt = '%Y'\n",
    "    res = []\n",
    "    for x in breaks:\n",
    "        res.append(x.strftime(fmt))\n",
    "    return res\n",
    "\n",
    "to_plot_overall = count_opens(pd.to_datetime(\"2004-01-01\"), 18, pharmacies_post_pbm)\n",
    "\n",
    "display(\n",
    "    ggplot(to_plot_overall)\n",
    "    + aes(x='year', y='counts')\n",
    "    + geom_line()\n",
    "    + scale_x_datetime(breaks='2 year', labels=custom_format)\n",
    "    + labs(title='Total number of pharmacies in NY state over time',\n",
    "          x='registration expiration',\n",
    "          y='')\n",
    "    + theme_minimal()\n",
    "    + theme(panel_grid_minor=element_blank())\n",
    "    + ylim([2650, 5300]) #100% increase to match scales below\n",
    ")"
   ]
  },
  {
   "cell_type": "code",
   "execution_count": 52,
   "id": "6d4f1552",
   "metadata": {},
   "outputs": [
    {
     "data": {
      "image/png": "[encoded data removed]",
      "text/plain": [
       "<Figure size 640x480 with 1 Axes>"
      ]
     },
     "metadata": {
      "needs_background": "light"
     },
     "output_type": "display_data"
    },
    {
     "data": {
      "text/plain": [
       "<ggplot: (314101610)>"
      ]
     },
     "metadata": {},
     "output_type": "display_data"
    }
   ],
   "source": [
    "to_plot_outside_nyc = count_opens(pd.to_datetime(\"2004-01-01\"), 18, pharmacies_post_pbm.query('county.isin(@nyc) == False'))\n",
    "\n",
    "display(\n",
    "    ggplot(to_plot_outside_nyc)\n",
    "    + aes(x='year', y='counts')\n",
    "    + geom_line()\n",
    "    + scale_x_datetime(breaks='2 year', labels=custom_format)\n",
    "    + labs(title='Total number of pharmacies OUTSIDE NYC over time',\n",
    "          x='registration expiration',\n",
    "          y='')\n",
    "    + ylim([1500, 3000]) #same scale as above\n",
    "    + theme_minimal()\n",
    "    + theme(panel_grid_minor=element_blank())\n",
    ")"
   ]
  },
  {
   "cell_type": "code",
   "execution_count": 53,
   "id": "0dc35429",
   "metadata": {},
   "outputs": [
    {
     "data": {
      "image/png": "[encoded data removed]",
      "text/plain": [
       "<Figure size 640x480 with 1 Axes>"
      ]
     },
     "metadata": {
      "needs_background": "light"
     },
     "output_type": "display_data"
    },
    {
     "data": {
      "text/plain": [
       "<ggplot: (311397040)>"
      ]
     },
     "metadata": {},
     "output_type": "display_data"
    }
   ],
   "source": [
    "to_plot_just_nyc = count_opens(pd.to_datetime(\"2004-01-01\"), 18, pharmacies_post_pbm.query('county.isin(@nyc)'))\n",
    "\n",
    "display(\n",
    "    ggplot(to_plot_just_nyc)\n",
    "    + aes(x='year', y='counts')\n",
    "    + geom_line()\n",
    "    + scale_x_datetime(breaks='2 year', labels=custom_format)\n",
    "    + labs(title='Total number of pharmacies JUST NYC over time',\n",
    "          x='registration expiration',\n",
    "          y='')\n",
    "    + ylim([1500, 3000]) #same scale as above\n",
    "    + theme_minimal()\n",
    "    + theme(panel_grid_minor=element_blank())\n",
    ")"
   ]
  },
  {
   "cell_type": "code",
   "execution_count": 57,
   "id": "02cf1b90",
   "metadata": {},
   "outputs": [],
   "source": [
    "def count_opens_by_category(start_date, num_years, df):\n",
    "    years = [start_date]\n",
    "    for y in range(num_years):\n",
    "        new_date = start_date + pd.DateOffset(years=1)\n",
    "        start_date = new_date\n",
    "        years.append(new_date)\n",
    "    indep_counts = []\n",
    "    healthcare_counts = []\n",
    "    minor_chain_counts = []\n",
    "    major_chain_counts = []\n",
    "    public_owned_counts = []\n",
    "    for year in years:\n",
    "        #counts number that remained open throughout the year\n",
    "        num_indep = df[(df.date_first_registered <= year) \\\n",
    "                        & (df.registration_ends > year) \\\n",
    "                        & (df.category == 'INDEPENDENT')].shape[0]\n",
    "        num_health = df[(df.date_first_registered <= year) \\\n",
    "                        & (df.registration_ends > year) \\\n",
    "                        & (df.category == 'HEALTHCARE')].shape[0]\n",
    "        num_minor = df[(df.date_first_registered <= year) \\\n",
    "                        & (df.registration_ends > year) \\\n",
    "                        & (df.category == 'MINOR CHAIN')].shape[0]\n",
    "        num_major = df[(df.date_first_registered <= year) \\\n",
    "                        & (df.registration_ends > year) \\\n",
    "                        & (df.category == 'MAJOR CHAIN')].shape[0]\n",
    "        num_public = df[(df.date_first_registered <= year) \\\n",
    "                        & (df.registration_ends > year) \\\n",
    "                        & (df.category == 'PUBLIC')].shape[0]\n",
    "        indep_counts.append(num_indep)\n",
    "        healthcare_counts.append(num_health)\n",
    "        minor_chain_counts.append(num_minor)\n",
    "        major_chain_counts.append(num_major)\n",
    "        public_owned_counts.append(num_public)\n",
    "    counts_df = {}\n",
    "    counts_df['year'] = years\n",
    "    counts_df['independent'] = indep_counts\n",
    "    counts_df['major_chain'] = major_chain_counts\n",
    "    counts_df['minor_chain'] = minor_chain_counts\n",
    "    counts_df['healthcare'] = healthcare_counts\n",
    "    counts_df['public_owned'] = public_owned_counts\n",
    "    return pd.DataFrame(counts_df)"
   ]
  },
  {
   "cell_type": "code",
   "execution_count": 58,
   "id": "1f166918",
   "metadata": {},
   "outputs": [],
   "source": [
    "to_plot_cat = count_opens_by_category(pd.to_datetime(\"2004-01-01\"), 18, pharmacies_post_pbm)"
   ]
  },
  {
   "cell_type": "code",
   "execution_count": 59,
   "id": "2844b4cf",
   "metadata": {},
   "outputs": [
    {
     "data": {
      "image/png": "[encoded data removed]",
      "text/plain": [
       "<Figure size 640x480 with 1 Axes>"
      ]
     },
     "metadata": {
      "needs_background": "light"
     },
     "output_type": "display_data"
    },
    {
     "data": {
      "text/plain": [
       "<ggplot: (291078988)>"
      ]
     },
     "metadata": {},
     "output_type": "display_data"
    }
   ],
   "source": [
    "display(\n",
    "    ggplot(to_plot_cat)\n",
    "    + geom_line(aes(x='year', y='independent'),color='blue')\n",
    "    + geom_line(aes(x='year', y='major_chain'),color='red')\n",
    "    #+ geom_line(aes(x='year', y='minor_chain'),color='purple')\n",
    "    #+ geom_line(aes(x='year', y='healthcare'),color='green')\n",
    "    #+ geom_line(aes(x='year', y='public_owned'),color='orange')\n",
    "    + scale_x_datetime(breaks='2 year', labels=custom_format)\n",
    "    + theme_minimal()\n",
    "    + theme(panel_grid_minor=element_blank())\n",
    "    + labs(title='Total number of pharmacies over time by category',\n",
    "          y='', x='')\n",
    "    + ylim([1500, 3000])\n",
    ")"
   ]
  },
  {
   "cell_type": "code",
   "execution_count": 60,
   "id": "5681c3ec",
   "metadata": {},
   "outputs": [],
   "source": [
    "to_plot_no_city = count_opens_by_category(pd.to_datetime(\"2004-01-01\"), 18, \\\n",
    "                                         pharmacies_post_pbm.query(\"county.isin(@nyc)==False\"))"
   ]
  },
  {
   "cell_type": "code",
   "execution_count": 61,
   "id": "a2034742",
   "metadata": {},
   "outputs": [
    {
     "data": {
      "image/png": "[encoded data removed]",
      "text/plain": [
       "<Figure size 640x480 with 1 Axes>"
      ]
     },
     "metadata": {
      "needs_background": "light"
     },
     "output_type": "display_data"
    },
    {
     "data": {
      "text/plain": [
       "<ggplot: (314025798)>"
      ]
     },
     "metadata": {},
     "output_type": "display_data"
    }
   ],
   "source": [
    "display(\n",
    "    ggplot(to_plot_no_city)\n",
    "    + geom_line(aes(x='year', y='independent'),color='blue')\n",
    "    + geom_line(aes(x='year', y='major_chain'),color='red')\n",
    "    + labs(y='number of open pharmacies')\n",
    "    #+ geom_line(aes(x='year', y='minor_chain'),color='purple')\n",
    "    #+ geom_line(aes(x='year', y='healthcare'),color='green')\n",
    "    #+ geom_line(aes(x='year', y='public_owned'),color='orange')\n",
    "    + scale_x_datetime(breaks='2 year', labels=custom_format)\n",
    "    + theme_minimal()\n",
    "    + theme(panel_grid_minor=element_blank())\n",
    "    + ylim([500, 2200]) #200% scale, same as below\n",
    "    + labs(title='Total number of pharmacies in New York State outside NYC',\n",
    "          y='', x='')\n",
    ")"
   ]
  },
  {
   "cell_type": "code",
   "execution_count": 64,
   "id": "16fc5292",
   "metadata": {},
   "outputs": [],
   "source": [
    "to_plot_just_city = count_opens_by_category(pd.to_datetime(\"2004-01-01\"), 18, \\\n",
    "                                         pharmacies_post_pbm.query(\"county.isin(@nyc)\"))"
   ]
  },
  {
   "cell_type": "code",
   "execution_count": 65,
   "id": "725ec7d8",
   "metadata": {},
   "outputs": [
    {
     "data": {
      "image/png": "[encoded data removed]",
      "text/plain": [
       "<Figure size 640x480 with 1 Axes>"
      ]
     },
     "metadata": {
      "needs_background": "light"
     },
     "output_type": "display_data"
    },
    {
     "data": {
      "text/plain": [
       "<ggplot: (314119132)>"
      ]
     },
     "metadata": {},
     "output_type": "display_data"
    }
   ],
   "source": [
    "display(\n",
    "    ggplot(to_plot_just_city)\n",
    "    + geom_line(aes(x='year', y='independent'),color='blue')\n",
    "    + geom_line(aes(x='year', y='major_chain'),color='red')\n",
    "    #+ geom_line(aes(x='year', y='minor_chain'),color='purple')\n",
    "    #+ geom_line(aes(x='year', y='healthcare'),color='green')\n",
    "    #+ geom_line(aes(x='year', y='public_owned'),color='orange')\n",
    "    + scale_x_datetime(breaks='2 year', labels=custom_format)\n",
    "    + theme_minimal()\n",
    "    + theme(panel_grid_minor=element_blank())\n",
    "    + ylim([500, 2200]) #200% scale\n",
    "    + labs(title='Total number of pharmacies in NYC',\n",
    "          y='', x='')\n",
    ")"
   ]
  }
 ],
 "metadata": {
  "kernelspec": {
   "display_name": "Python 3 (ipykernel)",
   "language": "python",
   "name": "python3"
  },
  "language_info": {
   "codemirror_mode": {
    "name": "ipython",
    "version": 3
   },
   "file_extension": ".py",
   "mimetype": "text/x-python",
   "name": "python",
   "nbconvert_exporter": "python",
   "pygments_lexer": "ipython3",
   "version": "3.10.0"
  }
 },
 "nbformat": 4,
 "nbformat_minor": 5
}
